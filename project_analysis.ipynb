{
 "cells": [
  {
   "cell_type": "markdown",
   "metadata": {},
   "source": [
    "# Analyzing Student Graduation Rates for Predictive Purposes\n",
    "\n",
    "**Name**: Quinn O'Rourke\n",
    "\n",
    "## 1. Introduction and Dataset Research"
   ]
  },
  {
   "cell_type": "markdown",
   "metadata": {},
   "source": [
    "#### Problem Statement and Motivation:\n",
    "\n",
    "Over the last decade, one of the most important fields data science/analytics has begun to make a positive impact in is education. While total college enrollment over the last decade has been some of the largest in human history (even going by per capita)(1), college graduation rates have continued to trend downward. In order for schools to help students succeed as much as possible, they need to understand what is causing more students to dropout, which is where predictive analytics has perfectly come into play.\n",
    "\n",
    "Georgia State is one of the growing numbers of schools that is trying to use big data to identify the factors that make student struggle in order to better help then and therefore increase their graduation rates (2). Struggling with high dropout numbers results in a worse reputation for these smaller, \"less elite\" schools and overall leads to lower enrollment and less funds, and so many have turned to predictive analytics. \n",
    "\n",
    "But in the pursuit of better predicting what types of students are more likely to dropout so they can address the problem, the reinforcement of racial, gender, and other demographic inequalities has been deeply impactful. In the example of Georgia State, which used to be majority minority, using unfair predictive models to determine if a student they accepted/kept was going to graduate led to them accepting less diversity and equality in the pursuit of better graduation numbers. If these predictions aren't as fair and effective as possible, the actions taken based on them may have significant negative impacts to students as well as to the colleges' reputations as diverse/unjudgemental institutions.\n",
    "\n",
    "Given this scenario, the most important values to consider when it comes to designing a predictive model for student graduation success is effectiveness and fairness. Without an effective model, the causes of students struggle will continue to go unnotice and action won't be taken to help students who may need it. And without a fair model, students will face deep discrimination issues and may even end up being rejected from schools they would have thrived in. There are tradeoffs and a balance in making a model that fulfills both these values, as a more effective/accurate model may not be as fair of a model and vice versa. We need to take all this into account when building our model and be assured that the model is adequately effective and fair. \n",
    "\n",
    "In determining effectiveness, I will be using the some typical summary statistics (tpr, tnr, accuracy) and for evaluating fairness I will be using statistical parity, particularly the statistical parity rate difference as its best for measuring the positive outcomes between groups and focuses on group-level fairness, both of which is appropriate for our problem since we want to maximize graduation rates (positive outcomes) and make it fair for people of all demographics, especially in regards to the very real issue of men having lower rates vs women (group-level fairness)(3). \n",
    "\n",
    "Sources:\n",
    "\n",
    "1.) College enrollments demographic data: https://educationdata.org/college-enrollment-statistics\n",
    "\n",
    "2.) Article on predictive analytics in helping college graduation rates: https://hechingerreport.org/predictive-analytics-boosting-college-graduation-rates-also-invade-privacy-and-reinforce-racial-inequities/\n",
    "\n",
    "3.) Article on men having much lower graduation rate vs women: https://www.brookings.edu/blog/up-front/2021/10/08/the-male-college-crisis-is-not-just-in-enrollment-but-completion/\n",
    "\n",
    "#### Dataset Information\n",
    "\n",
    "The dataset I will be using for this analysis is from the academic paper \"Predicting Student Dropout and Academic Success\" by Valentim Realinho, Jorge Machado, Luís Baptista, and Mónica V. Martins in 2022. The dataset uses data collected on students from 2008 to 2009 at VALORIZA, a portugese institute from 17 of their undergraduate programs. I found the dataset originally on kaggle (both of these links are below). I will be using the kaggle dataset and all its variables but will have to remove some as they don't fit our analysis such as curricular units, application model, parent's occupations, and nationality (since the study is in Portugal it's not reflective of the US plus the descriptions they use for races are very arbitrary in categorizing.\n",
    "\n",
    "Dataset: https://www.kaggle.com/datasets/thedevastator/higher-education-predictors-of-student-retention\n",
    "\n",
    "Academic paper on dataset and how it was collected in full explanation: https://www.mdpi.com/2306-5729/7/11/146\n",
    "\n",
    "#### Report Introduction\n",
    "\n",
    "Given all this, I plan to create/use two predictive models in this report: the Fairness-aware classifier with prejudice remover regularizer model and the Weighted Logistic Regression model. They are best for dealing with this type of binary categorical prediction and accounting for fairness as well as accuracy.\n"
   ]
  },
  {
   "cell_type": "markdown",
   "metadata": {},
   "source": [
    "## 2. Data Processing"
   ]
  },
  {
   "cell_type": "markdown",
   "metadata": {},
   "source": [
    "#### Data Pre-Processing"
   ]
  },
  {
   "cell_type": "markdown",
   "metadata": {},
   "source": [
    "Given the dataset is collected as a three-category classification (with Graduate, Dropout, and Enrolled), and given the fact we want to analyze what factors make a student dropout versus graduate and aren't necessarily sure whether currently enrolled students are going to dropout, we are going to remove all students that are currently enrolled.\n",
    "\n",
    "There are also certain variables in the dataset that don't pertain completely to a student success/whether they continue their academic career or not. We will be removing these as well as some numerical variables that are too difficult to categorize accurately without some bias on the part of the research (such as which occupation for a parent is considered \"better\" than the other on a scale).\n",
    "\n",
    "One final adjustment we need to make to the dataset before processing is in regards to the various categorical variables. The descriptions of what the different numbers mean for a column such as \"Mother's qualification\" are in the academic paper on the dataset but aren't in order of importance. We will be adjusting all these variables so as to properly analyze them"
   ]
  },
  {
   "cell_type": "code",
   "execution_count": 163,
   "metadata": {},
   "outputs": [],
   "source": [
    "from aif360.datasets import StandardDataset\n",
    "from aif360.metrics import  BinaryLabelDatasetMetric\n",
    "import pandas as pd\n",
    "import matplotlib.pyplot as plt\n",
    "import numpy as np\n",
    "import seaborn as sns\n",
    "from sklearn.metrics import confusion_matrix\n",
    "from sklearn.preprocessing import StandardScaler\n",
    "from sklearn.linear_model import LogisticRegression\n",
    "from sklearn.model_selection import train_test_split\n",
    "from sklearn.metrics import roc_curve, auc"
   ]
  },
  {
   "cell_type": "code",
   "execution_count": 164,
   "metadata": {},
   "outputs": [
    {
     "data": {
      "text/html": [
       "<div>\n",
       "<style scoped>\n",
       "    .dataframe tbody tr th:only-of-type {\n",
       "        vertical-align: middle;\n",
       "    }\n",
       "\n",
       "    .dataframe tbody tr th {\n",
       "        vertical-align: top;\n",
       "    }\n",
       "\n",
       "    .dataframe thead th {\n",
       "        text-align: right;\n",
       "    }\n",
       "</style>\n",
       "<table border=\"1\" class=\"dataframe\">\n",
       "  <thead>\n",
       "    <tr style=\"text-align: right;\">\n",
       "      <th></th>\n",
       "      <th>Marital status</th>\n",
       "      <th>Application mode</th>\n",
       "      <th>Application order</th>\n",
       "      <th>Course</th>\n",
       "      <th>Daytime/evening attendance</th>\n",
       "      <th>Previous qualification</th>\n",
       "      <th>Nacionality</th>\n",
       "      <th>Mother's qualification</th>\n",
       "      <th>Father's qualification</th>\n",
       "      <th>Mother's occupation</th>\n",
       "      <th>...</th>\n",
       "      <th>Curricular units 2nd sem (credited)</th>\n",
       "      <th>Curricular units 2nd sem (enrolled)</th>\n",
       "      <th>Curricular units 2nd sem (evaluations)</th>\n",
       "      <th>Curricular units 2nd sem (approved)</th>\n",
       "      <th>Curricular units 2nd sem (grade)</th>\n",
       "      <th>Curricular units 2nd sem (without evaluations)</th>\n",
       "      <th>Unemployment rate</th>\n",
       "      <th>Inflation rate</th>\n",
       "      <th>GDP</th>\n",
       "      <th>Target</th>\n",
       "    </tr>\n",
       "  </thead>\n",
       "  <tbody>\n",
       "    <tr>\n",
       "      <th>0</th>\n",
       "      <td>1</td>\n",
       "      <td>8</td>\n",
       "      <td>5</td>\n",
       "      <td>2</td>\n",
       "      <td>1</td>\n",
       "      <td>1</td>\n",
       "      <td>1</td>\n",
       "      <td>13</td>\n",
       "      <td>10</td>\n",
       "      <td>6</td>\n",
       "      <td>...</td>\n",
       "      <td>0</td>\n",
       "      <td>0</td>\n",
       "      <td>0</td>\n",
       "      <td>0</td>\n",
       "      <td>0.000000</td>\n",
       "      <td>0</td>\n",
       "      <td>10.8</td>\n",
       "      <td>1.4</td>\n",
       "      <td>1.74</td>\n",
       "      <td>Dropout</td>\n",
       "    </tr>\n",
       "    <tr>\n",
       "      <th>1</th>\n",
       "      <td>1</td>\n",
       "      <td>6</td>\n",
       "      <td>1</td>\n",
       "      <td>11</td>\n",
       "      <td>1</td>\n",
       "      <td>1</td>\n",
       "      <td>1</td>\n",
       "      <td>1</td>\n",
       "      <td>3</td>\n",
       "      <td>4</td>\n",
       "      <td>...</td>\n",
       "      <td>0</td>\n",
       "      <td>6</td>\n",
       "      <td>6</td>\n",
       "      <td>6</td>\n",
       "      <td>13.666667</td>\n",
       "      <td>0</td>\n",
       "      <td>13.9</td>\n",
       "      <td>-0.3</td>\n",
       "      <td>0.79</td>\n",
       "      <td>Graduate</td>\n",
       "    </tr>\n",
       "    <tr>\n",
       "      <th>2</th>\n",
       "      <td>1</td>\n",
       "      <td>1</td>\n",
       "      <td>5</td>\n",
       "      <td>5</td>\n",
       "      <td>1</td>\n",
       "      <td>1</td>\n",
       "      <td>1</td>\n",
       "      <td>22</td>\n",
       "      <td>27</td>\n",
       "      <td>10</td>\n",
       "      <td>...</td>\n",
       "      <td>0</td>\n",
       "      <td>6</td>\n",
       "      <td>0</td>\n",
       "      <td>0</td>\n",
       "      <td>0.000000</td>\n",
       "      <td>0</td>\n",
       "      <td>10.8</td>\n",
       "      <td>1.4</td>\n",
       "      <td>1.74</td>\n",
       "      <td>Dropout</td>\n",
       "    </tr>\n",
       "    <tr>\n",
       "      <th>3</th>\n",
       "      <td>1</td>\n",
       "      <td>8</td>\n",
       "      <td>2</td>\n",
       "      <td>15</td>\n",
       "      <td>1</td>\n",
       "      <td>1</td>\n",
       "      <td>1</td>\n",
       "      <td>23</td>\n",
       "      <td>27</td>\n",
       "      <td>6</td>\n",
       "      <td>...</td>\n",
       "      <td>0</td>\n",
       "      <td>6</td>\n",
       "      <td>10</td>\n",
       "      <td>5</td>\n",
       "      <td>12.400000</td>\n",
       "      <td>0</td>\n",
       "      <td>9.4</td>\n",
       "      <td>-0.8</td>\n",
       "      <td>-3.12</td>\n",
       "      <td>Graduate</td>\n",
       "    </tr>\n",
       "    <tr>\n",
       "      <th>4</th>\n",
       "      <td>2</td>\n",
       "      <td>12</td>\n",
       "      <td>1</td>\n",
       "      <td>3</td>\n",
       "      <td>0</td>\n",
       "      <td>1</td>\n",
       "      <td>1</td>\n",
       "      <td>22</td>\n",
       "      <td>28</td>\n",
       "      <td>10</td>\n",
       "      <td>...</td>\n",
       "      <td>0</td>\n",
       "      <td>6</td>\n",
       "      <td>6</td>\n",
       "      <td>6</td>\n",
       "      <td>13.000000</td>\n",
       "      <td>0</td>\n",
       "      <td>13.9</td>\n",
       "      <td>-0.3</td>\n",
       "      <td>0.79</td>\n",
       "      <td>Graduate</td>\n",
       "    </tr>\n",
       "    <tr>\n",
       "      <th>5</th>\n",
       "      <td>2</td>\n",
       "      <td>12</td>\n",
       "      <td>1</td>\n",
       "      <td>17</td>\n",
       "      <td>0</td>\n",
       "      <td>12</td>\n",
       "      <td>1</td>\n",
       "      <td>22</td>\n",
       "      <td>27</td>\n",
       "      <td>10</td>\n",
       "      <td>...</td>\n",
       "      <td>0</td>\n",
       "      <td>5</td>\n",
       "      <td>17</td>\n",
       "      <td>5</td>\n",
       "      <td>11.500000</td>\n",
       "      <td>5</td>\n",
       "      <td>16.2</td>\n",
       "      <td>0.3</td>\n",
       "      <td>-0.92</td>\n",
       "      <td>Graduate</td>\n",
       "    </tr>\n",
       "    <tr>\n",
       "      <th>6</th>\n",
       "      <td>1</td>\n",
       "      <td>1</td>\n",
       "      <td>1</td>\n",
       "      <td>12</td>\n",
       "      <td>1</td>\n",
       "      <td>1</td>\n",
       "      <td>1</td>\n",
       "      <td>13</td>\n",
       "      <td>28</td>\n",
       "      <td>8</td>\n",
       "      <td>...</td>\n",
       "      <td>0</td>\n",
       "      <td>8</td>\n",
       "      <td>8</td>\n",
       "      <td>8</td>\n",
       "      <td>14.345000</td>\n",
       "      <td>0</td>\n",
       "      <td>15.5</td>\n",
       "      <td>2.8</td>\n",
       "      <td>-4.06</td>\n",
       "      <td>Graduate</td>\n",
       "    </tr>\n",
       "    <tr>\n",
       "      <th>7</th>\n",
       "      <td>1</td>\n",
       "      <td>9</td>\n",
       "      <td>4</td>\n",
       "      <td>11</td>\n",
       "      <td>1</td>\n",
       "      <td>1</td>\n",
       "      <td>1</td>\n",
       "      <td>22</td>\n",
       "      <td>27</td>\n",
       "      <td>10</td>\n",
       "      <td>...</td>\n",
       "      <td>0</td>\n",
       "      <td>5</td>\n",
       "      <td>5</td>\n",
       "      <td>0</td>\n",
       "      <td>0.000000</td>\n",
       "      <td>0</td>\n",
       "      <td>15.5</td>\n",
       "      <td>2.8</td>\n",
       "      <td>-4.06</td>\n",
       "      <td>Dropout</td>\n",
       "    </tr>\n",
       "    <tr>\n",
       "      <th>8</th>\n",
       "      <td>1</td>\n",
       "      <td>1</td>\n",
       "      <td>3</td>\n",
       "      <td>10</td>\n",
       "      <td>1</td>\n",
       "      <td>1</td>\n",
       "      <td>15</td>\n",
       "      <td>1</td>\n",
       "      <td>1</td>\n",
       "      <td>10</td>\n",
       "      <td>...</td>\n",
       "      <td>0</td>\n",
       "      <td>6</td>\n",
       "      <td>7</td>\n",
       "      <td>6</td>\n",
       "      <td>14.142857</td>\n",
       "      <td>0</td>\n",
       "      <td>16.2</td>\n",
       "      <td>0.3</td>\n",
       "      <td>-0.92</td>\n",
       "      <td>Graduate</td>\n",
       "    </tr>\n",
       "    <tr>\n",
       "      <th>9</th>\n",
       "      <td>1</td>\n",
       "      <td>1</td>\n",
       "      <td>1</td>\n",
       "      <td>10</td>\n",
       "      <td>1</td>\n",
       "      <td>1</td>\n",
       "      <td>1</td>\n",
       "      <td>1</td>\n",
       "      <td>14</td>\n",
       "      <td>5</td>\n",
       "      <td>...</td>\n",
       "      <td>0</td>\n",
       "      <td>6</td>\n",
       "      <td>14</td>\n",
       "      <td>2</td>\n",
       "      <td>13.500000</td>\n",
       "      <td>0</td>\n",
       "      <td>8.9</td>\n",
       "      <td>1.4</td>\n",
       "      <td>3.51</td>\n",
       "      <td>Dropout</td>\n",
       "    </tr>\n",
       "  </tbody>\n",
       "</table>\n",
       "<p>10 rows × 35 columns</p>\n",
       "</div>"
      ],
      "text/plain": [
       "   Marital status  Application mode  Application order  Course  \\\n",
       "0               1                 8                  5       2   \n",
       "1               1                 6                  1      11   \n",
       "2               1                 1                  5       5   \n",
       "3               1                 8                  2      15   \n",
       "4               2                12                  1       3   \n",
       "5               2                12                  1      17   \n",
       "6               1                 1                  1      12   \n",
       "7               1                 9                  4      11   \n",
       "8               1                 1                  3      10   \n",
       "9               1                 1                  1      10   \n",
       "\n",
       "   Daytime/evening attendance  Previous qualification  Nacionality  \\\n",
       "0                           1                       1            1   \n",
       "1                           1                       1            1   \n",
       "2                           1                       1            1   \n",
       "3                           1                       1            1   \n",
       "4                           0                       1            1   \n",
       "5                           0                      12            1   \n",
       "6                           1                       1            1   \n",
       "7                           1                       1            1   \n",
       "8                           1                       1           15   \n",
       "9                           1                       1            1   \n",
       "\n",
       "   Mother's qualification  Father's qualification  Mother's occupation  ...  \\\n",
       "0                      13                      10                    6  ...   \n",
       "1                       1                       3                    4  ...   \n",
       "2                      22                      27                   10  ...   \n",
       "3                      23                      27                    6  ...   \n",
       "4                      22                      28                   10  ...   \n",
       "5                      22                      27                   10  ...   \n",
       "6                      13                      28                    8  ...   \n",
       "7                      22                      27                   10  ...   \n",
       "8                       1                       1                   10  ...   \n",
       "9                       1                      14                    5  ...   \n",
       "\n",
       "   Curricular units 2nd sem (credited)  Curricular units 2nd sem (enrolled)  \\\n",
       "0                                    0                                    0   \n",
       "1                                    0                                    6   \n",
       "2                                    0                                    6   \n",
       "3                                    0                                    6   \n",
       "4                                    0                                    6   \n",
       "5                                    0                                    5   \n",
       "6                                    0                                    8   \n",
       "7                                    0                                    5   \n",
       "8                                    0                                    6   \n",
       "9                                    0                                    6   \n",
       "\n",
       "   Curricular units 2nd sem (evaluations)  \\\n",
       "0                                       0   \n",
       "1                                       6   \n",
       "2                                       0   \n",
       "3                                      10   \n",
       "4                                       6   \n",
       "5                                      17   \n",
       "6                                       8   \n",
       "7                                       5   \n",
       "8                                       7   \n",
       "9                                      14   \n",
       "\n",
       "   Curricular units 2nd sem (approved)  Curricular units 2nd sem (grade)  \\\n",
       "0                                    0                          0.000000   \n",
       "1                                    6                         13.666667   \n",
       "2                                    0                          0.000000   \n",
       "3                                    5                         12.400000   \n",
       "4                                    6                         13.000000   \n",
       "5                                    5                         11.500000   \n",
       "6                                    8                         14.345000   \n",
       "7                                    0                          0.000000   \n",
       "8                                    6                         14.142857   \n",
       "9                                    2                         13.500000   \n",
       "\n",
       "   Curricular units 2nd sem (without evaluations)  Unemployment rate  \\\n",
       "0                                               0               10.8   \n",
       "1                                               0               13.9   \n",
       "2                                               0               10.8   \n",
       "3                                               0                9.4   \n",
       "4                                               0               13.9   \n",
       "5                                               5               16.2   \n",
       "6                                               0               15.5   \n",
       "7                                               0               15.5   \n",
       "8                                               0               16.2   \n",
       "9                                               0                8.9   \n",
       "\n",
       "   Inflation rate   GDP    Target  \n",
       "0             1.4  1.74   Dropout  \n",
       "1            -0.3  0.79  Graduate  \n",
       "2             1.4  1.74   Dropout  \n",
       "3            -0.8 -3.12  Graduate  \n",
       "4            -0.3  0.79  Graduate  \n",
       "5             0.3 -0.92  Graduate  \n",
       "6             2.8 -4.06  Graduate  \n",
       "7             2.8 -4.06   Dropout  \n",
       "8             0.3 -0.92  Graduate  \n",
       "9             1.4  3.51   Dropout  \n",
       "\n",
       "[10 rows x 35 columns]"
      ]
     },
     "execution_count": 164,
     "metadata": {},
     "output_type": "execute_result"
    }
   ],
   "source": [
    "df = pd.read_csv('studentsuccess.csv')\n",
    "df[:10]"
   ]
  },
  {
   "cell_type": "code",
   "execution_count": 165,
   "metadata": {},
   "outputs": [],
   "source": [
    "students_df = df.drop(df[df[\"Target\"] == \"Enrolled\"].index) # drop currently enrolled students"
   ]
  },
  {
   "cell_type": "code",
   "execution_count": 166,
   "metadata": {},
   "outputs": [],
   "source": [
    "# Dropping all variables not needed to include in our analysis\n",
    "students_df = students_df.drop(\"Curricular units 2nd sem (without evaluations)\", axis=1)\n",
    "students_df = students_df.drop(\"Curricular units 2nd sem (evaluations)\", axis=1)\n",
    "students_df = students_df.drop(\"Curricular units 2nd sem (credited)\", axis=1)\n",
    "students_df = students_df.drop(\"Curricular units 2nd sem (enrolled)\", axis=1)\n",
    "students_df = students_df.drop(\"Curricular units 2nd sem (approved)\", axis=1)\n",
    "students_df = students_df.drop(\"Curricular units 1st sem (without evaluations)\", axis=1)\n",
    "students_df = students_df.drop(\"Curricular units 1st sem (evaluations)\", axis=1)\n",
    "students_df = students_df.drop(\"Curricular units 1st sem (credited)\", axis=1)\n",
    "students_df = students_df.drop(\"Curricular units 1st sem (enrolled)\", axis=1)\n",
    "students_df = students_df.drop(\"Curricular units 1st sem (approved)\", axis=1)\n",
    "students_df = students_df.drop(\"Application mode\", axis=1)\n",
    "students_df = students_df.drop(\"Application order\", axis=1)\n",
    "\n",
    "# and dropping all variables too subjective to analyze without bias (and not too important in determing student success anyway)\n",
    "students_df = students_df.drop(\"Mother's occupation\", axis=1)\n",
    "students_df = students_df.drop(\"Father's occupation\", axis=1)\n",
    "students_df = students_df.drop(\"Nacionality\", axis=1) # international category covers most of what this gives us\n"
   ]
  },
  {
   "cell_type": "code",
   "execution_count": 167,
   "metadata": {},
   "outputs": [
    {
     "data": {
      "text/html": [
       "<div>\n",
       "<style scoped>\n",
       "    .dataframe tbody tr th:only-of-type {\n",
       "        vertical-align: middle;\n",
       "    }\n",
       "\n",
       "    .dataframe tbody tr th {\n",
       "        vertical-align: top;\n",
       "    }\n",
       "\n",
       "    .dataframe thead th {\n",
       "        text-align: right;\n",
       "    }\n",
       "</style>\n",
       "<table border=\"1\" class=\"dataframe\">\n",
       "  <thead>\n",
       "    <tr style=\"text-align: right;\">\n",
       "      <th></th>\n",
       "      <th>Marital status</th>\n",
       "      <th>Course</th>\n",
       "      <th>Daytime/evening attendance</th>\n",
       "      <th>Previous qualification</th>\n",
       "      <th>Mother's qualification</th>\n",
       "      <th>Father's qualification</th>\n",
       "      <th>Displaced</th>\n",
       "      <th>Educational special needs</th>\n",
       "      <th>Debtor</th>\n",
       "      <th>Tuition fees up to date</th>\n",
       "      <th>Gender</th>\n",
       "      <th>Scholarship holder</th>\n",
       "      <th>Age at enrollment</th>\n",
       "      <th>International</th>\n",
       "      <th>Curricular units 1st sem (grade)</th>\n",
       "      <th>Curricular units 2nd sem (grade)</th>\n",
       "      <th>Unemployment rate</th>\n",
       "      <th>Inflation rate</th>\n",
       "      <th>GDP</th>\n",
       "      <th>Target</th>\n",
       "    </tr>\n",
       "  </thead>\n",
       "  <tbody>\n",
       "    <tr>\n",
       "      <th>0</th>\n",
       "      <td>1</td>\n",
       "      <td>2</td>\n",
       "      <td>1</td>\n",
       "      <td>1</td>\n",
       "      <td>13</td>\n",
       "      <td>10</td>\n",
       "      <td>1</td>\n",
       "      <td>0</td>\n",
       "      <td>0</td>\n",
       "      <td>1</td>\n",
       "      <td>1</td>\n",
       "      <td>0</td>\n",
       "      <td>20</td>\n",
       "      <td>0</td>\n",
       "      <td>0.000000</td>\n",
       "      <td>0.000000</td>\n",
       "      <td>10.8</td>\n",
       "      <td>1.4</td>\n",
       "      <td>1.74</td>\n",
       "      <td>Dropout</td>\n",
       "    </tr>\n",
       "    <tr>\n",
       "      <th>1</th>\n",
       "      <td>1</td>\n",
       "      <td>11</td>\n",
       "      <td>1</td>\n",
       "      <td>1</td>\n",
       "      <td>1</td>\n",
       "      <td>3</td>\n",
       "      <td>1</td>\n",
       "      <td>0</td>\n",
       "      <td>0</td>\n",
       "      <td>0</td>\n",
       "      <td>1</td>\n",
       "      <td>0</td>\n",
       "      <td>19</td>\n",
       "      <td>0</td>\n",
       "      <td>14.000000</td>\n",
       "      <td>13.666667</td>\n",
       "      <td>13.9</td>\n",
       "      <td>-0.3</td>\n",
       "      <td>0.79</td>\n",
       "      <td>Graduate</td>\n",
       "    </tr>\n",
       "    <tr>\n",
       "      <th>2</th>\n",
       "      <td>1</td>\n",
       "      <td>5</td>\n",
       "      <td>1</td>\n",
       "      <td>1</td>\n",
       "      <td>22</td>\n",
       "      <td>27</td>\n",
       "      <td>1</td>\n",
       "      <td>0</td>\n",
       "      <td>0</td>\n",
       "      <td>0</td>\n",
       "      <td>1</td>\n",
       "      <td>0</td>\n",
       "      <td>19</td>\n",
       "      <td>0</td>\n",
       "      <td>0.000000</td>\n",
       "      <td>0.000000</td>\n",
       "      <td>10.8</td>\n",
       "      <td>1.4</td>\n",
       "      <td>1.74</td>\n",
       "      <td>Dropout</td>\n",
       "    </tr>\n",
       "    <tr>\n",
       "      <th>3</th>\n",
       "      <td>1</td>\n",
       "      <td>15</td>\n",
       "      <td>1</td>\n",
       "      <td>1</td>\n",
       "      <td>23</td>\n",
       "      <td>27</td>\n",
       "      <td>1</td>\n",
       "      <td>0</td>\n",
       "      <td>0</td>\n",
       "      <td>1</td>\n",
       "      <td>0</td>\n",
       "      <td>0</td>\n",
       "      <td>20</td>\n",
       "      <td>0</td>\n",
       "      <td>13.428571</td>\n",
       "      <td>12.400000</td>\n",
       "      <td>9.4</td>\n",
       "      <td>-0.8</td>\n",
       "      <td>-3.12</td>\n",
       "      <td>Graduate</td>\n",
       "    </tr>\n",
       "    <tr>\n",
       "      <th>4</th>\n",
       "      <td>2</td>\n",
       "      <td>3</td>\n",
       "      <td>0</td>\n",
       "      <td>1</td>\n",
       "      <td>22</td>\n",
       "      <td>28</td>\n",
       "      <td>0</td>\n",
       "      <td>0</td>\n",
       "      <td>0</td>\n",
       "      <td>1</td>\n",
       "      <td>0</td>\n",
       "      <td>0</td>\n",
       "      <td>45</td>\n",
       "      <td>0</td>\n",
       "      <td>12.333333</td>\n",
       "      <td>13.000000</td>\n",
       "      <td>13.9</td>\n",
       "      <td>-0.3</td>\n",
       "      <td>0.79</td>\n",
       "      <td>Graduate</td>\n",
       "    </tr>\n",
       "  </tbody>\n",
       "</table>\n",
       "</div>"
      ],
      "text/plain": [
       "   Marital status  Course  Daytime/evening attendance  Previous qualification  \\\n",
       "0               1       2                           1                       1   \n",
       "1               1      11                           1                       1   \n",
       "2               1       5                           1                       1   \n",
       "3               1      15                           1                       1   \n",
       "4               2       3                           0                       1   \n",
       "\n",
       "   Mother's qualification  Father's qualification  Displaced  \\\n",
       "0                      13                      10          1   \n",
       "1                       1                       3          1   \n",
       "2                      22                      27          1   \n",
       "3                      23                      27          1   \n",
       "4                      22                      28          0   \n",
       "\n",
       "   Educational special needs  Debtor  Tuition fees up to date  Gender  \\\n",
       "0                          0       0                        1       1   \n",
       "1                          0       0                        0       1   \n",
       "2                          0       0                        0       1   \n",
       "3                          0       0                        1       0   \n",
       "4                          0       0                        1       0   \n",
       "\n",
       "   Scholarship holder  Age at enrollment  International  \\\n",
       "0                   0                 20              0   \n",
       "1                   0                 19              0   \n",
       "2                   0                 19              0   \n",
       "3                   0                 20              0   \n",
       "4                   0                 45              0   \n",
       "\n",
       "   Curricular units 1st sem (grade)  Curricular units 2nd sem (grade)  \\\n",
       "0                          0.000000                          0.000000   \n",
       "1                         14.000000                         13.666667   \n",
       "2                          0.000000                          0.000000   \n",
       "3                         13.428571                         12.400000   \n",
       "4                         12.333333                         13.000000   \n",
       "\n",
       "   Unemployment rate  Inflation rate   GDP    Target  \n",
       "0               10.8             1.4  1.74   Dropout  \n",
       "1               13.9            -0.3  0.79  Graduate  \n",
       "2               10.8             1.4  1.74   Dropout  \n",
       "3                9.4            -0.8 -3.12  Graduate  \n",
       "4               13.9            -0.3  0.79  Graduate  "
      ]
     },
     "execution_count": 167,
     "metadata": {},
     "output_type": "execute_result"
    }
   ],
   "source": [
    "students_df.head()"
   ]
  },
  {
   "cell_type": "code",
   "execution_count": 168,
   "metadata": {},
   "outputs": [],
   "source": [
    "# And finally we will change the classification of categorical variables not ordered in importance so we can analyze them properly\n",
    "# See the article for what the different numbers mean, will be grouping them according to education level appropriately\n",
    "\n",
    "students_df.loc[students_df[\"Mother's qualification\"].isin([9,18,21,25,26,27,28]) , \"Mother's qualification\"] = \"Basic\"\n",
    "students_df.loc[students_df[\"Mother's qualification\"].isin([7,8,10,11,12,14,15,17,19,20]) , \"Mother's qualification\"] = \"SomeHighSchool\"\n",
    "students_df.loc[students_df[\"Mother's qualification\"].isin([1,30]), \"Mother's qualification\"] = \"HighSchoolDegree\"\n",
    "students_df.loc[students_df[\"Mother's qualification\"].isin([2,3,6]), \"Mother's qualification\"] = \"CollegeDegree\"\n",
    "students_df.loc[students_df[\"Mother's qualification\"].isin([4,5,33,34]), \"Mother's qualification\"] = \"AdvancedDegree\"\n",
    "students_df.loc[students_df[\"Mother's qualification\"].isin([16,23,29,31,32]), \"Mother's qualification\"] = \"TechnicalDegree\"\n",
    "students_df.loc[students_df[\"Mother's qualification\"].isin([13,22,24]), \"Mother's qualification\"] = \"Other\"\n",
    "\n",
    "students_df.loc[students_df[\"Father's qualification\"].isin([9,18,21,25,26,27,28]) , \"Father's qualification\"] = \"Basic\"\n",
    "students_df.loc[students_df[\"Father's qualification\"].isin([7,8,10,11,12,14,15,17,19,20]) , \"Father's qualification\"] = \"SomeHighSchool\"\n",
    "students_df.loc[students_df[\"Father's qualification\"].isin([1,30]), \"Father's qualification\"] = \"HighSchoolDegree\"\n",
    "students_df.loc[students_df[\"Father's qualification\"].isin([2,3,6]), \"Father's qualification\"] = \"CollegeDegree\"\n",
    "students_df.loc[students_df[\"Father's qualification\"].isin([4,5,33,34]), \"Father's qualification\"] = \"AdvancedDegree\"\n",
    "students_df.loc[students_df[\"Father's qualification\"].isin([16,23,29,31,32]), \"Father's qualification\"] = \"TechnicalDegree\"\n",
    "students_df.loc[students_df[\"Father's qualification\"].isin([13,22,24]), \"Father's qualification\"] = \"Other\"\n",
    "\n",
    "students_df.loc[students_df[\"Previous qualification\"].isin([12,13]), \"Previous qualification\"] = \"Basic\"\n",
    "students_df.loc[students_df[\"Previous qualification\"].isin([7,8,9,10,11]), \"Previous qualification\"] = \"SomeHighSchool\"\n",
    "students_df.loc[students_df[\"Previous qualification\"].isin([1]), \"Previous qualification\"] = \"HighSchoolDegree\"\n",
    "students_df.loc[students_df[\"Previous qualification\"].isin([2,3,15]), \"Previous qualification\"] = \"CollegeDegree\"\n",
    "students_df.loc[students_df[\"Previous qualification\"].isin([4,5,6,17]), \"Previous qualification\"] = \"AdvancedDegree\"\n",
    "students_df.loc[students_df[\"Previous qualification\"].isin([14,16]), \"Previous qualification\"] = \"Other\"\n",
    "\n",
    "students_df.loc[students_df[\"Course\"].isin([2,14,15]), \"Course\"] = \"MediaStudies\"\n",
    "students_df.loc[students_df[\"Course\"].isin([3,5,10]), \"Course\"] = \"SocialScience\"\n",
    "students_df.loc[students_df[\"Course\"].isin([7]), \"Course\"] = \"STEM\"\n",
    "students_df.loc[students_df[\"Course\"].isin([1,4,8]), \"Course\"] = \"Bio/Chem/ACES\"\n",
    "students_df.loc[students_df[\"Course\"].isin([6,12,13]), \"Course\"] = \"Medical/Nurse\"\n",
    "students_df.loc[students_df[\"Course\"].isin([9,17]), \"Course\"] = \"Business\"\n",
    "students_df.loc[students_df[\"Course\"].isin([11,16]), \"Course\"] = \"Other\"\n",
    "\n",
    "students_df.loc[students_df[\"Marital status\"].isin([1]), \"Marital status\"] = \"Single\"\n",
    "students_df.loc[students_df[\"Marital status\"].isin([2]), \"Marital status\"] = \"Married\"\n",
    "students_df.loc[students_df[\"Marital status\"].isin([3,4]), \"Marital status\"] = \"Divorced/Widowed\"\n",
    "students_df.loc[students_df[\"Marital status\"].isin([5,6]), \"Marital status\"] = \"Other\"\n",
    "\n",
    "# We will also be changing the binary classifcation target from categorical to numerical so we can fit it into our soon-to-be created model.\n",
    "\n",
    "students_df.loc[students_df[\"Target\"] == 'Graduate' , \"Target\"] = 1 #Coding 1 = Graduated, 0 = Dropout\n",
    "students_df.loc[students_df[\"Target\"] == 'Dropout' , \"Target\"] = 0"
   ]
  },
  {
   "cell_type": "code",
   "execution_count": 169,
   "metadata": {},
   "outputs": [
    {
     "data": {
      "text/html": [
       "<div>\n",
       "<style scoped>\n",
       "    .dataframe tbody tr th:only-of-type {\n",
       "        vertical-align: middle;\n",
       "    }\n",
       "\n",
       "    .dataframe tbody tr th {\n",
       "        vertical-align: top;\n",
       "    }\n",
       "\n",
       "    .dataframe thead th {\n",
       "        text-align: right;\n",
       "    }\n",
       "</style>\n",
       "<table border=\"1\" class=\"dataframe\">\n",
       "  <thead>\n",
       "    <tr style=\"text-align: right;\">\n",
       "      <th></th>\n",
       "      <th>Marital status</th>\n",
       "      <th>Course</th>\n",
       "      <th>Daytime/evening attendance</th>\n",
       "      <th>Previous qualification</th>\n",
       "      <th>Mother's qualification</th>\n",
       "      <th>Father's qualification</th>\n",
       "      <th>Displaced</th>\n",
       "      <th>Educational special needs</th>\n",
       "      <th>Debtor</th>\n",
       "      <th>Tuition fees up to date</th>\n",
       "      <th>Gender</th>\n",
       "      <th>Scholarship holder</th>\n",
       "      <th>Age at enrollment</th>\n",
       "      <th>International</th>\n",
       "      <th>Curricular units 1st sem (grade)</th>\n",
       "      <th>Curricular units 2nd sem (grade)</th>\n",
       "      <th>Unemployment rate</th>\n",
       "      <th>Inflation rate</th>\n",
       "      <th>GDP</th>\n",
       "      <th>Target</th>\n",
       "    </tr>\n",
       "  </thead>\n",
       "  <tbody>\n",
       "    <tr>\n",
       "      <th>0</th>\n",
       "      <td>Single</td>\n",
       "      <td>MediaStudies</td>\n",
       "      <td>1</td>\n",
       "      <td>HighSchoolDegree</td>\n",
       "      <td>Other</td>\n",
       "      <td>SomeHighSchool</td>\n",
       "      <td>1</td>\n",
       "      <td>0</td>\n",
       "      <td>0</td>\n",
       "      <td>1</td>\n",
       "      <td>1</td>\n",
       "      <td>0</td>\n",
       "      <td>20</td>\n",
       "      <td>0</td>\n",
       "      <td>0.000000</td>\n",
       "      <td>0.000000</td>\n",
       "      <td>10.8</td>\n",
       "      <td>1.4</td>\n",
       "      <td>1.74</td>\n",
       "      <td>0</td>\n",
       "    </tr>\n",
       "    <tr>\n",
       "      <th>1</th>\n",
       "      <td>Single</td>\n",
       "      <td>Other</td>\n",
       "      <td>1</td>\n",
       "      <td>HighSchoolDegree</td>\n",
       "      <td>HighSchoolDegree</td>\n",
       "      <td>CollegeDegree</td>\n",
       "      <td>1</td>\n",
       "      <td>0</td>\n",
       "      <td>0</td>\n",
       "      <td>0</td>\n",
       "      <td>1</td>\n",
       "      <td>0</td>\n",
       "      <td>19</td>\n",
       "      <td>0</td>\n",
       "      <td>14.000000</td>\n",
       "      <td>13.666667</td>\n",
       "      <td>13.9</td>\n",
       "      <td>-0.3</td>\n",
       "      <td>0.79</td>\n",
       "      <td>1</td>\n",
       "    </tr>\n",
       "    <tr>\n",
       "      <th>2</th>\n",
       "      <td>Single</td>\n",
       "      <td>SocialScience</td>\n",
       "      <td>1</td>\n",
       "      <td>HighSchoolDegree</td>\n",
       "      <td>Other</td>\n",
       "      <td>Basic</td>\n",
       "      <td>1</td>\n",
       "      <td>0</td>\n",
       "      <td>0</td>\n",
       "      <td>0</td>\n",
       "      <td>1</td>\n",
       "      <td>0</td>\n",
       "      <td>19</td>\n",
       "      <td>0</td>\n",
       "      <td>0.000000</td>\n",
       "      <td>0.000000</td>\n",
       "      <td>10.8</td>\n",
       "      <td>1.4</td>\n",
       "      <td>1.74</td>\n",
       "      <td>0</td>\n",
       "    </tr>\n",
       "    <tr>\n",
       "      <th>3</th>\n",
       "      <td>Single</td>\n",
       "      <td>MediaStudies</td>\n",
       "      <td>1</td>\n",
       "      <td>HighSchoolDegree</td>\n",
       "      <td>TechnicalDegree</td>\n",
       "      <td>Basic</td>\n",
       "      <td>1</td>\n",
       "      <td>0</td>\n",
       "      <td>0</td>\n",
       "      <td>1</td>\n",
       "      <td>0</td>\n",
       "      <td>0</td>\n",
       "      <td>20</td>\n",
       "      <td>0</td>\n",
       "      <td>13.428571</td>\n",
       "      <td>12.400000</td>\n",
       "      <td>9.4</td>\n",
       "      <td>-0.8</td>\n",
       "      <td>-3.12</td>\n",
       "      <td>1</td>\n",
       "    </tr>\n",
       "    <tr>\n",
       "      <th>4</th>\n",
       "      <td>Married</td>\n",
       "      <td>SocialScience</td>\n",
       "      <td>0</td>\n",
       "      <td>HighSchoolDegree</td>\n",
       "      <td>Other</td>\n",
       "      <td>Basic</td>\n",
       "      <td>0</td>\n",
       "      <td>0</td>\n",
       "      <td>0</td>\n",
       "      <td>1</td>\n",
       "      <td>0</td>\n",
       "      <td>0</td>\n",
       "      <td>45</td>\n",
       "      <td>0</td>\n",
       "      <td>12.333333</td>\n",
       "      <td>13.000000</td>\n",
       "      <td>13.9</td>\n",
       "      <td>-0.3</td>\n",
       "      <td>0.79</td>\n",
       "      <td>1</td>\n",
       "    </tr>\n",
       "    <tr>\n",
       "      <th>5</th>\n",
       "      <td>Married</td>\n",
       "      <td>Business</td>\n",
       "      <td>0</td>\n",
       "      <td>Basic</td>\n",
       "      <td>Other</td>\n",
       "      <td>Basic</td>\n",
       "      <td>0</td>\n",
       "      <td>0</td>\n",
       "      <td>1</td>\n",
       "      <td>1</td>\n",
       "      <td>1</td>\n",
       "      <td>0</td>\n",
       "      <td>50</td>\n",
       "      <td>0</td>\n",
       "      <td>11.857143</td>\n",
       "      <td>11.500000</td>\n",
       "      <td>16.2</td>\n",
       "      <td>0.3</td>\n",
       "      <td>-0.92</td>\n",
       "      <td>1</td>\n",
       "    </tr>\n",
       "    <tr>\n",
       "      <th>6</th>\n",
       "      <td>Single</td>\n",
       "      <td>Medical/Nurse</td>\n",
       "      <td>1</td>\n",
       "      <td>HighSchoolDegree</td>\n",
       "      <td>Other</td>\n",
       "      <td>Basic</td>\n",
       "      <td>1</td>\n",
       "      <td>0</td>\n",
       "      <td>0</td>\n",
       "      <td>1</td>\n",
       "      <td>0</td>\n",
       "      <td>1</td>\n",
       "      <td>18</td>\n",
       "      <td>0</td>\n",
       "      <td>13.300000</td>\n",
       "      <td>14.345000</td>\n",
       "      <td>15.5</td>\n",
       "      <td>2.8</td>\n",
       "      <td>-4.06</td>\n",
       "      <td>1</td>\n",
       "    </tr>\n",
       "    <tr>\n",
       "      <th>7</th>\n",
       "      <td>Single</td>\n",
       "      <td>Other</td>\n",
       "      <td>1</td>\n",
       "      <td>HighSchoolDegree</td>\n",
       "      <td>Other</td>\n",
       "      <td>Basic</td>\n",
       "      <td>1</td>\n",
       "      <td>0</td>\n",
       "      <td>0</td>\n",
       "      <td>0</td>\n",
       "      <td>1</td>\n",
       "      <td>0</td>\n",
       "      <td>22</td>\n",
       "      <td>0</td>\n",
       "      <td>0.000000</td>\n",
       "      <td>0.000000</td>\n",
       "      <td>15.5</td>\n",
       "      <td>2.8</td>\n",
       "      <td>-4.06</td>\n",
       "      <td>0</td>\n",
       "    </tr>\n",
       "    <tr>\n",
       "      <th>8</th>\n",
       "      <td>Single</td>\n",
       "      <td>SocialScience</td>\n",
       "      <td>1</td>\n",
       "      <td>HighSchoolDegree</td>\n",
       "      <td>HighSchoolDegree</td>\n",
       "      <td>HighSchoolDegree</td>\n",
       "      <td>0</td>\n",
       "      <td>0</td>\n",
       "      <td>0</td>\n",
       "      <td>1</td>\n",
       "      <td>0</td>\n",
       "      <td>1</td>\n",
       "      <td>21</td>\n",
       "      <td>1</td>\n",
       "      <td>13.875000</td>\n",
       "      <td>14.142857</td>\n",
       "      <td>16.2</td>\n",
       "      <td>0.3</td>\n",
       "      <td>-0.92</td>\n",
       "      <td>1</td>\n",
       "    </tr>\n",
       "    <tr>\n",
       "      <th>9</th>\n",
       "      <td>Single</td>\n",
       "      <td>SocialScience</td>\n",
       "      <td>1</td>\n",
       "      <td>HighSchoolDegree</td>\n",
       "      <td>HighSchoolDegree</td>\n",
       "      <td>SomeHighSchool</td>\n",
       "      <td>1</td>\n",
       "      <td>0</td>\n",
       "      <td>1</td>\n",
       "      <td>0</td>\n",
       "      <td>0</td>\n",
       "      <td>0</td>\n",
       "      <td>18</td>\n",
       "      <td>0</td>\n",
       "      <td>11.400000</td>\n",
       "      <td>13.500000</td>\n",
       "      <td>8.9</td>\n",
       "      <td>1.4</td>\n",
       "      <td>3.51</td>\n",
       "      <td>0</td>\n",
       "    </tr>\n",
       "  </tbody>\n",
       "</table>\n",
       "</div>"
      ],
      "text/plain": [
       "  Marital status         Course  Daytime/evening attendance  \\\n",
       "0         Single   MediaStudies                           1   \n",
       "1         Single          Other                           1   \n",
       "2         Single  SocialScience                           1   \n",
       "3         Single   MediaStudies                           1   \n",
       "4        Married  SocialScience                           0   \n",
       "5        Married       Business                           0   \n",
       "6         Single  Medical/Nurse                           1   \n",
       "7         Single          Other                           1   \n",
       "8         Single  SocialScience                           1   \n",
       "9         Single  SocialScience                           1   \n",
       "\n",
       "  Previous qualification Mother's qualification Father's qualification  \\\n",
       "0       HighSchoolDegree                  Other         SomeHighSchool   \n",
       "1       HighSchoolDegree       HighSchoolDegree          CollegeDegree   \n",
       "2       HighSchoolDegree                  Other                  Basic   \n",
       "3       HighSchoolDegree        TechnicalDegree                  Basic   \n",
       "4       HighSchoolDegree                  Other                  Basic   \n",
       "5                  Basic                  Other                  Basic   \n",
       "6       HighSchoolDegree                  Other                  Basic   \n",
       "7       HighSchoolDegree                  Other                  Basic   \n",
       "8       HighSchoolDegree       HighSchoolDegree       HighSchoolDegree   \n",
       "9       HighSchoolDegree       HighSchoolDegree         SomeHighSchool   \n",
       "\n",
       "   Displaced  Educational special needs  Debtor  Tuition fees up to date  \\\n",
       "0          1                          0       0                        1   \n",
       "1          1                          0       0                        0   \n",
       "2          1                          0       0                        0   \n",
       "3          1                          0       0                        1   \n",
       "4          0                          0       0                        1   \n",
       "5          0                          0       1                        1   \n",
       "6          1                          0       0                        1   \n",
       "7          1                          0       0                        0   \n",
       "8          0                          0       0                        1   \n",
       "9          1                          0       1                        0   \n",
       "\n",
       "   Gender  Scholarship holder  Age at enrollment  International  \\\n",
       "0       1                   0                 20              0   \n",
       "1       1                   0                 19              0   \n",
       "2       1                   0                 19              0   \n",
       "3       0                   0                 20              0   \n",
       "4       0                   0                 45              0   \n",
       "5       1                   0                 50              0   \n",
       "6       0                   1                 18              0   \n",
       "7       1                   0                 22              0   \n",
       "8       0                   1                 21              1   \n",
       "9       0                   0                 18              0   \n",
       "\n",
       "   Curricular units 1st sem (grade)  Curricular units 2nd sem (grade)  \\\n",
       "0                          0.000000                          0.000000   \n",
       "1                         14.000000                         13.666667   \n",
       "2                          0.000000                          0.000000   \n",
       "3                         13.428571                         12.400000   \n",
       "4                         12.333333                         13.000000   \n",
       "5                         11.857143                         11.500000   \n",
       "6                         13.300000                         14.345000   \n",
       "7                          0.000000                          0.000000   \n",
       "8                         13.875000                         14.142857   \n",
       "9                         11.400000                         13.500000   \n",
       "\n",
       "   Unemployment rate  Inflation rate   GDP Target  \n",
       "0               10.8             1.4  1.74      0  \n",
       "1               13.9            -0.3  0.79      1  \n",
       "2               10.8             1.4  1.74      0  \n",
       "3                9.4            -0.8 -3.12      1  \n",
       "4               13.9            -0.3  0.79      1  \n",
       "5               16.2             0.3 -0.92      1  \n",
       "6               15.5             2.8 -4.06      1  \n",
       "7               15.5             2.8 -4.06      0  \n",
       "8               16.2             0.3 -0.92      1  \n",
       "9                8.9             1.4  3.51      0  "
      ]
     },
     "execution_count": 169,
     "metadata": {},
     "output_type": "execute_result"
    }
   ],
   "source": [
    "students_df[:10] # Here's our final dataset, ready for processing:"
   ]
  },
  {
   "cell_type": "markdown",
   "metadata": {},
   "source": [
    "I don't think any of these basic data processing decisions might have a significant ethical impact on any stakeholders involved. While we are missing out on possibly important datapoints from currently enrolled students and have removed some variables that could of shown a relation to creating a better model, having these inputs that we can't accurately and reliably control and therefore observe to see which are most important in trying to ethically lower college dropout rates would only hurt stakeholders. By doing this pre-processing, we can create a model that's far more explanable and useable for stakeholders. \n"
   ]
  },
  {
   "cell_type": "markdown",
   "metadata": {},
   "source": [
    "#### Training and Test Dataset"
   ]
  },
  {
   "cell_type": "code",
   "execution_count": 170,
   "metadata": {},
   "outputs": [],
   "source": [
    "train_df, test_df = train_test_split(students_df, test_size=0.8, shuffle= True)\n",
    "#display(train_df)\n",
    "#display(test_df)"
   ]
  },
  {
   "cell_type": "code",
   "execution_count": 171,
   "metadata": {},
   "outputs": [],
   "source": [
    "X_train = train_df.drop('Target', axis=1)\n",
    "y_train = train_df['Target']\n",
    "\n",
    "X_test = test_df.drop('Target', axis=1)\n",
    "y_test = test_df['Target']"
   ]
  },
  {
   "cell_type": "markdown",
   "metadata": {},
   "source": [
    "#### Potential Fairness Pre-Processing"
   ]
  },
  {
   "cell_type": "markdown",
   "metadata": {},
   "source": [
    "\n",
    "While I wasn't planning on using a fairness pre-processing method, the narrowing down of these categorical variables to improve the model could of possibly impacted fairness but this is unlikely. This was more about reducing the complexity and less about reducing the bias of these multiple labels.\n"
   ]
  },
  {
   "cell_type": "markdown",
   "metadata": {},
   "source": [
    "## 3. Basic Descriptive Analytics and Dataset Benchmarking"
   ]
  },
  {
   "cell_type": "markdown",
   "metadata": {},
   "source": [
    "We are now going to perform some basic descriptive analytics on the database in order to better understand the data we're working with."
   ]
  },
  {
   "cell_type": "code",
   "execution_count": 172,
   "metadata": {},
   "outputs": [
    {
     "data": {
      "text/plain": [
       "Single              3199\n",
       "Married              327\n",
       "Divorced/Widowed      77\n",
       "Other                 27\n",
       "Name: Marital status, dtype: int64"
      ]
     },
     "execution_count": 172,
     "metadata": {},
     "output_type": "execute_result"
    }
   ],
   "source": [
    "# Basic summary statistics for each variable:\n",
    "students_df['Marital status'].value_counts()"
   ]
  },
  {
   "cell_type": "code",
   "execution_count": 173,
   "metadata": {},
   "outputs": [
    {
     "data": {
      "text/plain": [
       "Medical/Nurse    997\n",
       "MediaStudies     695\n",
       "SocialScience    691\n",
       "Business         486\n",
       "Other            353\n",
       "Bio/Chem/ACES    302\n",
       "STEM             106\n",
       "Name: Course, dtype: int64"
      ]
     },
     "execution_count": 173,
     "metadata": {},
     "output_type": "execute_result"
    }
   ],
   "source": [
    "students_df['Course'].value_counts()"
   ]
  },
  {
   "cell_type": "code",
   "execution_count": 174,
   "metadata": {},
   "outputs": [
    {
     "data": {
      "text/plain": [
       "1    3222\n",
       "0     408\n",
       "Name: Daytime/evening attendance, dtype: int64"
      ]
     },
     "execution_count": 174,
     "metadata": {},
     "output_type": "execute_result"
    }
   ],
   "source": [
    "students_df['Daytime/evening attendance'].value_counts() # 1 = daytime attendence, 0 = evening attendence"
   ]
  },
  {
   "cell_type": "code",
   "execution_count": 175,
   "metadata": {},
   "outputs": [
    {
     "data": {
      "text/plain": [
       "HighSchoolDegree    3019\n",
       "Other                192\n",
       "CollegeDegree        178\n",
       "Basic                155\n",
       "SomeHighSchool        57\n",
       "AdvancedDegree        29\n",
       "Name: Previous qualification, dtype: int64"
      ]
     },
     "execution_count": 175,
     "metadata": {},
     "output_type": "execute_result"
    }
   ],
   "source": [
    "students_df['Previous qualification'].value_counts()"
   ]
  },
  {
   "cell_type": "code",
   "execution_count": 176,
   "metadata": {},
   "outputs": [
    {
     "data": {
      "text/plain": [
       "Other               1623\n",
       "HighSchoolDegree     865\n",
       "TechnicalDegree      473\n",
       "CollegeDegree        401\n",
       "SomeHighSchool       188\n",
       "AdvancedDegree        50\n",
       "Basic                 30\n",
       "Name: Mother's qualification, dtype: int64"
      ]
     },
     "execution_count": 176,
     "metadata": {},
     "output_type": "execute_result"
    }
   ],
   "source": [
    "students_df[\"Mother's qualification\"].value_counts()"
   ]
  },
  {
   "cell_type": "code",
   "execution_count": 177,
   "metadata": {},
   "outputs": [
    {
     "data": {
      "text/plain": [
       "Basic               1610\n",
       "SomeHighSchool       837\n",
       "HighSchoolDegree     737\n",
       "CollegeDegree        265\n",
       "Other                111\n",
       "AdvancedDegree        50\n",
       "TechnicalDegree       20\n",
       "Name: Father's qualification, dtype: int64"
      ]
     },
     "execution_count": 177,
     "metadata": {},
     "output_type": "execute_result"
    }
   ],
   "source": [
    "students_df[\"Father's qualification\"].value_counts()"
   ]
  },
  {
   "cell_type": "code",
   "execution_count": 178,
   "metadata": {},
   "outputs": [
    {
     "data": {
      "text/plain": [
       "1    1993\n",
       "0    1637\n",
       "Name: Displaced, dtype: int64"
      ]
     },
     "execution_count": 178,
     "metadata": {},
     "output_type": "execute_result"
    }
   ],
   "source": [
    "students_df[\"Displaced\"].value_counts() #1 = displaced, 0 = not displaced student"
   ]
  },
  {
   "cell_type": "code",
   "execution_count": 179,
   "metadata": {},
   "outputs": [
    {
     "data": {
      "text/plain": [
       "0    3590\n",
       "1      40\n",
       "Name: Educational special needs, dtype: int64"
      ]
     },
     "execution_count": 179,
     "metadata": {},
     "output_type": "execute_result"
    }
   ],
   "source": [
    "students_df[\"Educational special needs\"].value_counts() #1 = special needs, 0 = not special needs student"
   ]
  },
  {
   "cell_type": "code",
   "execution_count": 180,
   "metadata": {},
   "outputs": [
    {
     "data": {
      "text/plain": [
       "0    3217\n",
       "1     413\n",
       "Name: Debtor, dtype: int64"
      ]
     },
     "execution_count": 180,
     "metadata": {},
     "output_type": "execute_result"
    }
   ],
   "source": [
    "students_df[\"Debtor\"].value_counts() #1 = debtor, 0 = not. This continues for all below values that are coded exclusively 0 or 1, where 1 is always yes and 0 is always no"
   ]
  },
  {
   "cell_type": "code",
   "execution_count": 181,
   "metadata": {},
   "outputs": [
    {
     "data": {
      "text/plain": [
       "1    3144\n",
       "0     486\n",
       "Name: Tuition fees up to date, dtype: int64"
      ]
     },
     "execution_count": 181,
     "metadata": {},
     "output_type": "execute_result"
    }
   ],
   "source": [
    "students_df[\"Tuition fees up to date\"].value_counts() "
   ]
  },
  {
   "cell_type": "code",
   "execution_count": 182,
   "metadata": {},
   "outputs": [
    {
     "data": {
      "text/plain": [
       "0    2381\n",
       "1    1249\n",
       "Name: Gender, dtype: int64"
      ]
     },
     "execution_count": 182,
     "metadata": {},
     "output_type": "execute_result"
    }
   ],
   "source": [
    "students_df[\"Gender\"].value_counts() # 1 = male, 0 = female"
   ]
  },
  {
   "cell_type": "code",
   "execution_count": 183,
   "metadata": {},
   "outputs": [
    {
     "data": {
      "text/plain": [
       "0    2661\n",
       "1     969\n",
       "Name: Scholarship holder, dtype: int64"
      ]
     },
     "execution_count": 183,
     "metadata": {},
     "output_type": "execute_result"
    }
   ],
   "source": [
    "students_df[\"Scholarship holder\"].value_counts() "
   ]
  },
  {
   "cell_type": "code",
   "execution_count": 184,
   "metadata": {},
   "outputs": [
    {
     "data": {
      "text/plain": [
       "count    3630.000000\n",
       "mean       23.461157\n",
       "std         7.827994\n",
       "min        17.000000\n",
       "25%        19.000000\n",
       "50%        20.000000\n",
       "75%        25.000000\n",
       "max        70.000000\n",
       "Name: Age at enrollment, dtype: float64"
      ]
     },
     "execution_count": 184,
     "metadata": {},
     "output_type": "execute_result"
    }
   ],
   "source": [
    "students_df[\"Age at enrollment\"].describe() #numerical value not qualitiative, quanitiative summary stats below"
   ]
  },
  {
   "cell_type": "code",
   "execution_count": 185,
   "metadata": {},
   "outputs": [
    {
     "data": {
      "text/plain": [
       "0    3544\n",
       "1      86\n",
       "Name: International, dtype: int64"
      ]
     },
     "execution_count": 185,
     "metadata": {},
     "output_type": "execute_result"
    }
   ],
   "source": [
    "students_df[\"International\"].value_counts() #international student = 1, 0 = not international"
   ]
  },
  {
   "cell_type": "code",
   "execution_count": 186,
   "metadata": {},
   "outputs": [
    {
     "data": {
      "text/plain": [
       "count    3630.000000\n",
       "mean       10.534860\n",
       "std         5.057694\n",
       "min         0.000000\n",
       "25%        11.000000\n",
       "50%        12.341429\n",
       "75%        13.500000\n",
       "max        18.875000\n",
       "Name: Curricular units 1st sem (grade), dtype: float64"
      ]
     },
     "execution_count": 186,
     "metadata": {},
     "output_type": "execute_result"
    }
   ],
   "source": [
    "students_df[\"Curricular units 1st sem (grade)\"].describe()"
   ]
  },
  {
   "cell_type": "code",
   "execution_count": 187,
   "metadata": {},
   "outputs": [
    {
     "data": {
      "text/plain": [
       "count    3630.000000\n",
       "mean       10.036155\n",
       "std         5.481742\n",
       "min         0.000000\n",
       "25%        10.517857\n",
       "50%        12.333333\n",
       "75%        13.500000\n",
       "max        18.571429\n",
       "Name: Curricular units 2nd sem (grade), dtype: float64"
      ]
     },
     "execution_count": 187,
     "metadata": {},
     "output_type": "execute_result"
    }
   ],
   "source": [
    "students_df[\"Curricular units 2nd sem (grade)\"].describe()"
   ]
  },
  {
   "cell_type": "code",
   "execution_count": 188,
   "metadata": {},
   "outputs": [
    {
     "data": {
      "text/plain": [
       "count    3630.000000\n",
       "mean       11.630358\n",
       "std         2.667652\n",
       "min         7.600000\n",
       "25%         9.400000\n",
       "50%        11.100000\n",
       "75%        13.900000\n",
       "max        16.200000\n",
       "Name: Unemployment rate, dtype: float64"
      ]
     },
     "execution_count": 188,
     "metadata": {},
     "output_type": "execute_result"
    }
   ],
   "source": [
    "students_df[\"Unemployment rate\"].describe()"
   ]
  },
  {
   "cell_type": "code",
   "execution_count": 189,
   "metadata": {},
   "outputs": [
    {
     "data": {
      "text/plain": [
       "count    3630.000000\n",
       "mean        1.231598\n",
       "std         1.384911\n",
       "min        -0.800000\n",
       "25%         0.300000\n",
       "50%         1.400000\n",
       "75%         2.600000\n",
       "max         3.700000\n",
       "Name: Inflation rate, dtype: float64"
      ]
     },
     "execution_count": 189,
     "metadata": {},
     "output_type": "execute_result"
    }
   ],
   "source": [
    "students_df[\"Inflation rate\"].describe()"
   ]
  },
  {
   "cell_type": "code",
   "execution_count": 190,
   "metadata": {},
   "outputs": [
    {
     "data": {
      "text/plain": [
       "count    3630.000000\n",
       "mean       -0.009256\n",
       "std         2.259986\n",
       "min        -4.060000\n",
       "25%        -1.700000\n",
       "50%         0.320000\n",
       "75%         1.790000\n",
       "max         3.510000\n",
       "Name: GDP, dtype: float64"
      ]
     },
     "execution_count": 190,
     "metadata": {},
     "output_type": "execute_result"
    }
   ],
   "source": [
    "students_df[\"GDP\"].describe()"
   ]
  },
  {
   "cell_type": "code",
   "execution_count": 191,
   "metadata": {},
   "outputs": [
    {
     "data": {
      "text/plain": [
       "1    2209\n",
       "0    1421\n",
       "Name: Target, dtype: int64"
      ]
     },
     "execution_count": 191,
     "metadata": {},
     "output_type": "execute_result"
    }
   ],
   "source": [
    "students_df[\"Target\"].value_counts() # 1 if they graduated, 0 if they dropped out."
   ]
  },
  {
   "cell_type": "code",
   "execution_count": 192,
   "metadata": {},
   "outputs": [
    {
     "name": "stderr",
     "output_type": "stream",
     "text": [
      "The default value of numeric_only in DataFrame.corr is deprecated. In a future version, it will default to False. Select only valid columns or specify the value of numeric_only to silence this warning.\n"
     ]
    },
    {
     "data": {
      "text/plain": [
       "<AxesSubplot: >"
      ]
     },
     "execution_count": 192,
     "metadata": {},
     "output_type": "execute_result"
    },
    {
     "data": {
      "image/png": "[encoded data removed]",
      "text/plain": [
       "<Figure size 640x480 with 2 Axes>"
      ]
     },
     "metadata": {},
     "output_type": "display_data"
    }
   ],
   "source": [
    "# Now let's see if there's any pairwise relationships between variables \n",
    "corr_matrix = students_df.corr()\n",
    "sns.heatmap(corr_matrix, cmap=\"coolwarm\", annot=False)"
   ]
  },
  {
   "cell_type": "markdown",
   "metadata": {},
   "source": [
    "Above we can see the different summary statistics for all the variables and a correlation matrix between variables, which we can use to determine if there are any strong pairwise relationships between any of the variables. \n",
    "\n",
    "According to the matrix, there is a strong positive pairwise relationship between Curricular units 1st sem grade and Curricular units 2nd sem grade, which is the only strong positive pairwise relationship in the dataset. The reasoning for this is pretty obvious, if you have a high grade in one semester you're more likely to have a high grade in the next semester and vice versa. \n",
    "\n",
    "There seems to be strong negative correlations between Age at enrollment and Daytime/evening attendence as well as Age at enrollment and Displaced. This makes sense, as the older you are in enrollment the more likely you need to take classes at later times to accomidate your work/family life versus younger students. There was also a strong negative pairwise relationship between whether a student was a debtor and whether their tuition fees were paid up to date or not, which also makes sense as if you paid up you likely aren't a debtor and vice versa. The last negative correlation is one that is self evident and seen throughout multiple studies, which is the negative relationship between unemployment rate and GDP, which means when one goes up it's likely the other goes down since a lower unemployment rate usually indicated a better economy and therefore stronger GDP."
   ]
  },
  {
   "cell_type": "markdown",
   "metadata": {},
   "source": [
    "#### Statistical Parity\n",
    "\n",
    "Looking at our data, we can calculate the statistical parity rate difference and the conditional statistical parity  on our one sensitive attribute: gender. The other variables in this dataset aren't necessarily sensitive, so we will be focusing on the fairness of gender in this analysis. Seeing as according to a lot of studies females have a higher graduation rate compared to males, especially in private schools, we will be considering them the priviledged class for the sake of analysis. \n",
    "\n",
    "We are also going to conduct conditional statistical parity with one of our legitimate categorical variables. There are a number to pick from, including Marital status, Previous qualification, Mother's qualification, etc (all have various different categorical labels that can be assigned legitimately), but I think \"Course\" would be the most interesting to look at so as to answer if the type of coursework you do could be an explaner for why a student would be more likely to dropout."
   ]
  },
  {
   "cell_type": "code",
   "execution_count": 193,
   "metadata": {},
   "outputs": [],
   "source": [
    "# Now let's calculate statistical parity. We need to remove string values for fairness metrics.\n",
    "students_quant_only_sd = students_df.drop(\"Marital status\", axis=1)\n",
    "students_quant_only_sd = students_quant_only_sd.drop(\"Course\", axis=1)\n",
    "students_quant_only_sd = students_quant_only_sd.drop(\"Previous qualification\", axis=1)\n",
    "students_quant_only_sd = students_quant_only_sd.drop(\"Mother's qualification\", axis=1)\n",
    "students_quant_only_sd = students_quant_only_sd.drop(\"Father's qualification\", axis=1)\n",
    "\n",
    "# And now we can calculate fairness metrics\n",
    "priv_group = [{'Gender': 0}]\n",
    "unpriv_group = [{'Gender': 1}]\n",
    "\n",
    "students_sd = StandardDataset(students_quant_only_sd, \n",
    "                          label_name='Target', \n",
    "                          favorable_classes=[1], \n",
    "                          protected_attribute_names=['Gender'], \n",
    "                          privileged_classes=[[0]])\n",
    "#students_sd"
   ]
  },
  {
   "cell_type": "code",
   "execution_count": 194,
   "metadata": {},
   "outputs": [
    {
     "data": {
      "text/plain": [
       "-0.25885504707840196"
      ]
     },
     "execution_count": 194,
     "metadata": {},
     "output_type": "execute_result"
    }
   ],
   "source": [
    "students_fairness_metrics = BinaryLabelDatasetMetric(students_sd, unprivileged_groups = unpriv_group, privileged_groups = priv_group)\n",
    "\n",
    "students_fairness_metrics.statistical_parity_difference()"
   ]
  },
  {
   "cell_type": "code",
   "execution_count": 195,
   "metadata": {},
   "outputs": [
    {
     "data": {
      "text/plain": [
       "array([0.81867769])"
      ]
     },
     "execution_count": 195,
     "metadata": {},
     "output_type": "execute_result"
    }
   ],
   "source": [
    "# We can see the statistical parity rate difference calculated above, which we got -0.258855047. Here's some more fairness metrics to put in perspective:\n",
    "students_fairness_metrics.disparate_impact()\n",
    "students_fairness_metrics.consistency(n_neighbors=5)"
   ]
  },
  {
   "cell_type": "code",
   "execution_count": 196,
   "metadata": {},
   "outputs": [
    {
     "name": "stdout",
     "output_type": "stream",
     "text": [
      "MediaStudies\n",
      "0.1305263692198365\n",
      "Other\n",
      "0.0945909459094591\n",
      "SocialScience\n",
      "0.21027457716071474\n",
      "Business\n",
      "0.24980936403843224\n",
      "Medical/Nurse\n",
      "0.21666666666666667\n",
      "Bio/Chem/ACES\n",
      "0.15585851142225504\n",
      "STEM\n",
      "0.14\n"
     ]
    }
   ],
   "source": [
    "# Now onto the conditional statistical parity rate difference\n",
    "legit_var = 'Course'\n",
    "sens_var = 'Gender'\n",
    "course_parity_diffs = []\n",
    "\n",
    "for group in students_df['Course'].unique(): # need to loop over to do difference calc for each 'Course' type\n",
    "    total_group_male = len(students_df[(students_df[sens_var] == 1) & (students_df[legit_var] == group)])\n",
    "    total_group_female = len(students_df[(students_df[sens_var] == 0) & (students_df[legit_var] == group)])\n",
    "    pos_group_male = len(students_df[(students_df[sens_var] == 1) & (students_df[legit_var] == group) & (students_df['Target'] == 1)])\n",
    "    pos_group_female = len(students_df[(students_df[sens_var] == 0) & (students_df[legit_var] == group) & (students_df['Target'] == 1)])\n",
    "    stat_parity_diff = abs(pos_group_male/total_group_male - pos_group_female/total_group_female)\n",
    "    course_parity_diffs.append(stat_parity_diff)\n",
    "    print(group)\n",
    "    print(stat_parity_diff)\n",
    "    "
   ]
  },
  {
   "cell_type": "markdown",
   "metadata": {},
   "source": [
    "We can see above the conditional statistical parity rate differences for each of the possible 'Course' values, with 'Business' having the highest at .2498 and 'Other' having the lowest at .0946. "
   ]
  },
  {
   "cell_type": "markdown",
   "metadata": {},
   "source": [
    "#### Proxy Variables\n",
    "\n",
    "As I explained above in regards to the correlation matrix, there are only a few variables that have any sort of pairwise relationships between them, all of them explained fairly well by the fact they are similar in nature and/or have simple logic to explain why they interact the way they do. Given we don't want gender to be a factor in whether we are determining if a student will dropout or not as that can be very unfair if misused, that is a possible proxy, which we will be further investigating later on, and there is a possibility marital status is closely related to the age and therefore a proxy."
   ]
  },
  {
   "cell_type": "markdown",
   "metadata": {},
   "source": [
    "## 4. Predictive Models Motivation"
   ]
  },
  {
   "cell_type": "markdown",
   "metadata": {},
   "source": [
    "\n",
    "I want models that, taking into account a single sensitive attribute (gender) and multiple qualitiative/quantitative variables, can most accurately and fairly predict whether a student will graduate or dropout. Given this, the two predictive models I intend to use on this dataset are the Fairness-aware classifier with prejudice remover regularizer model and the Weighted Logistic Regression model.\n",
    "\n",
    "Both of these models are able to take most of the variables from the dataset in a quick and efficient manner while also taking into account the relevant values stakeholders have for our initial problem in the introduction research. While the way they determine fairness is very different, both aim to try to make accurate predictions while also taking into account sensitive attributes (Gender) and adjusting themselves so as not to make unfair predictions based on discrimination/students demographics only. As we discussed in the intro and cited, men college graduation rates are much lower than womens for a variety of reasons and so we need to make sure our model isn't discriminating against men (or women if our results find that) simply for their gender, as that could result in the model rejecting new applicants based on gender in fear they'll bring the graduation rate down which is unfair to students and would ruin the college's reputation/ethics.\n"
   ]
  },
  {
   "cell_type": "markdown",
   "metadata": {},
   "source": [
    "## 5. Predictive Model 1 - Fairness-aware classifier with prejudice remover regularizer"
   ]
  },
  {
   "cell_type": "markdown",
   "metadata": {},
   "source": [
    "For the Fairness-aware classifier model, we need to use StandardDataset objects, which require only numerical variables in them. Therefore, we will be removing all qualitative/string-based variables for this model. "
   ]
  },
  {
   "cell_type": "code",
   "execution_count": 197,
   "metadata": {},
   "outputs": [],
   "source": [
    "test_quant_only_sd = test_df.drop(\"Marital status\", axis=1)\n",
    "test_quant_only_sd = test_quant_only_sd.drop(\"Course\", axis=1)\n",
    "test_quant_only_sd = test_quant_only_sd.drop(\"Previous qualification\", axis=1)\n",
    "test_quant_only_sd = test_quant_only_sd.drop(\"Mother's qualification\", axis=1)\n",
    "test_quant_only_sd = test_quant_only_sd.drop(\"Father's qualification\", axis=1)\n",
    "\n",
    "sd_test = StandardDataset(test_quant_only_sd, \n",
    "                          label_name='Target', \n",
    "                          favorable_classes=[1], \n",
    "                          protected_attribute_names=['Gender'], \n",
    "                          privileged_classes=[[0]])\n",
    "\n",
    "train_quant_only_sd = train_df.drop(\"Marital status\", axis=1)\n",
    "train_quant_only_sd = train_quant_only_sd.drop(\"Course\", axis=1)\n",
    "train_quant_only_sd = train_quant_only_sd.drop(\"Previous qualification\", axis=1)\n",
    "train_quant_only_sd = train_quant_only_sd.drop(\"Mother's qualification\", axis=1)\n",
    "train_quant_only_sd = train_quant_only_sd.drop(\"Father's qualification\", axis=1)\n",
    "\n",
    "sd_train = StandardDataset(train_quant_only_sd, \n",
    "                          label_name='Target', \n",
    "                          favorable_classes=[1], \n",
    "                          protected_attribute_names=['Gender'], \n",
    "                          privileged_classes=[[0]])"
   ]
  },
  {
   "cell_type": "code",
   "execution_count": 198,
   "metadata": {},
   "outputs": [
    {
     "data": {
      "text/plain": [
       "array([0.86207018, 0.82886129, 0.00888299, 0.90873163, 0.60837413,\n",
       "       0.75500547, 0.86984884, 0.72032876, 0.72073094, 0.73132098])"
      ]
     },
     "execution_count": 198,
     "metadata": {},
     "output_type": "execute_result"
    }
   ],
   "source": [
    "from aif360.algorithms.inprocessing import PrejudiceRemover\n",
    "from sklearn.linear_model import LogisticRegression\n",
    "\n",
    "pr = PrejudiceRemover(sensitive_attr='Gender', class_attr='Target', eta=0.1).fit(sd_train)\n",
    "sd_test_results = pr.predict(sd_test)\n",
    "y_test_prob = sd_test_results.scores.ravel()\n",
    "y_test_prob[0:10]"
   ]
  },
  {
   "cell_type": "markdown",
   "metadata": {},
   "source": [
    "This model will return a predicted probabilities of whether a certain student will graduate or dropout. To judge its effectiveness, I will be creating an ROC curve and getting the AUC, then trying out different thresholds in calculating the best statistical parity as well as the best tpr, tnr, and accuracy."
   ]
  },
  {
   "cell_type": "code",
   "execution_count": 199,
   "metadata": {},
   "outputs": [
    {
     "data": {
      "text/plain": [
       "0.8933432334710744"
      ]
     },
     "execution_count": 199,
     "metadata": {},
     "output_type": "execute_result"
    }
   ],
   "source": [
    "from sklearn.metrics import confusion_matrix, roc_curve, roc_auc_score\n",
    "\n",
    "fprs, tprs, thresholds = roc_curve(y_true=sd_test.labels, \n",
    "                            y_score=y_test_prob)\n",
    "auc = roc_auc_score(y_true=sd_test.labels, \n",
    "                            y_score=y_test_prob)\n",
    "auc"
   ]
  },
  {
   "cell_type": "code",
   "execution_count": 200,
   "metadata": {},
   "outputs": [
    {
     "data": {
      "text/html": [
       "<div>\n",
       "<style scoped>\n",
       "    .dataframe tbody tr th:only-of-type {\n",
       "        vertical-align: middle;\n",
       "    }\n",
       "\n",
       "    .dataframe tbody tr th {\n",
       "        vertical-align: top;\n",
       "    }\n",
       "\n",
       "    .dataframe thead th {\n",
       "        text-align: right;\n",
       "    }\n",
       "</style>\n",
       "<table border=\"1\" class=\"dataframe\">\n",
       "  <thead>\n",
       "    <tr style=\"text-align: right;\">\n",
       "      <th></th>\n",
       "      <th>threshold</th>\n",
       "      <th>accuracy</th>\n",
       "      <th>tpr</th>\n",
       "      <th>tnr</th>\n",
       "      <th>stat_parity</th>\n",
       "    </tr>\n",
       "  </thead>\n",
       "  <tbody>\n",
       "    <tr>\n",
       "      <th>0</th>\n",
       "      <td>0.00</td>\n",
       "      <td>0.606061</td>\n",
       "      <td>1.000000</td>\n",
       "      <td>0.000000</td>\n",
       "      <td>0.000000</td>\n",
       "    </tr>\n",
       "    <tr>\n",
       "      <th>1</th>\n",
       "      <td>0.01</td>\n",
       "      <td>0.644284</td>\n",
       "      <td>0.999432</td>\n",
       "      <td>0.097902</td>\n",
       "      <td>-0.013730</td>\n",
       "    </tr>\n",
       "    <tr>\n",
       "      <th>2</th>\n",
       "      <td>0.02</td>\n",
       "      <td>0.666322</td>\n",
       "      <td>0.998864</td>\n",
       "      <td>0.154720</td>\n",
       "      <td>-0.027790</td>\n",
       "    </tr>\n",
       "    <tr>\n",
       "      <th>3</th>\n",
       "      <td>0.03</td>\n",
       "      <td>0.680096</td>\n",
       "      <td>0.998864</td>\n",
       "      <td>0.189685</td>\n",
       "      <td>-0.052472</td>\n",
       "    </tr>\n",
       "    <tr>\n",
       "      <th>4</th>\n",
       "      <td>0.04</td>\n",
       "      <td>0.692149</td>\n",
       "      <td>0.998295</td>\n",
       "      <td>0.221154</td>\n",
       "      <td>-0.061971</td>\n",
       "    </tr>\n",
       "    <tr>\n",
       "      <th>5</th>\n",
       "      <td>0.05</td>\n",
       "      <td>0.701102</td>\n",
       "      <td>0.997727</td>\n",
       "      <td>0.244755</td>\n",
       "      <td>-0.068582</td>\n",
       "    </tr>\n",
       "    <tr>\n",
       "      <th>6</th>\n",
       "      <td>0.06</td>\n",
       "      <td>0.710055</td>\n",
       "      <td>0.997159</td>\n",
       "      <td>0.268357</td>\n",
       "      <td>-0.073670</td>\n",
       "    </tr>\n",
       "    <tr>\n",
       "      <th>7</th>\n",
       "      <td>0.07</td>\n",
       "      <td>0.720041</td>\n",
       "      <td>0.996023</td>\n",
       "      <td>0.295455</td>\n",
       "      <td>-0.073081</td>\n",
       "    </tr>\n",
       "    <tr>\n",
       "      <th>8</th>\n",
       "      <td>0.08</td>\n",
       "      <td>0.728306</td>\n",
       "      <td>0.996023</td>\n",
       "      <td>0.316434</td>\n",
       "      <td>-0.080272</td>\n",
       "    </tr>\n",
       "    <tr>\n",
       "      <th>9</th>\n",
       "      <td>0.09</td>\n",
       "      <td>0.738636</td>\n",
       "      <td>0.995455</td>\n",
       "      <td>0.343531</td>\n",
       "      <td>-0.095446</td>\n",
       "    </tr>\n",
       "  </tbody>\n",
       "</table>\n",
       "</div>"
      ],
      "text/plain": [
       "   threshold  accuracy       tpr       tnr  stat_parity\n",
       "0       0.00  0.606061  1.000000  0.000000     0.000000\n",
       "1       0.01  0.644284  0.999432  0.097902    -0.013730\n",
       "2       0.02  0.666322  0.998864  0.154720    -0.027790\n",
       "3       0.03  0.680096  0.998864  0.189685    -0.052472\n",
       "4       0.04  0.692149  0.998295  0.221154    -0.061971\n",
       "5       0.05  0.701102  0.997727  0.244755    -0.068582\n",
       "6       0.06  0.710055  0.997159  0.268357    -0.073670\n",
       "7       0.07  0.720041  0.996023  0.295455    -0.073081\n",
       "8       0.08  0.728306  0.996023  0.316434    -0.080272\n",
       "9       0.09  0.738636  0.995455  0.343531    -0.095446"
      ]
     },
     "execution_count": 200,
     "metadata": {},
     "output_type": "execute_result"
    }
   ],
   "source": [
    "results_list=[]\n",
    "\n",
    "thresh_list = np.arange(0, 1, 0.01)\n",
    "\n",
    "for threshold in thresh_list:\n",
    "    \n",
    "    test_df['y_pred'] = 1*(y_test_prob>threshold)\n",
    "\n",
    "    df_test_priv=test_df[test_df['Gender']==0]\n",
    "    df_test_unpriv=test_df[test_df['Gender']==1]\n",
    "    percent_pos_1 = df_test_priv[df_test_priv['y_pred']==1].shape[0]/df_test_priv.shape[0]\n",
    "    percent_pos_0 = df_test_unpriv[df_test_unpriv['y_pred']==1].shape[0]/df_test_unpriv.shape[0]\n",
    "    stat_parity = percent_pos_0-percent_pos_1\n",
    "    \n",
    "    #3. Calculate the tpr and the tnr of the overall classification\n",
    "    tn, fp, fn, tp = confusion_matrix(sd_test.labels, test_df['y_pred']).ravel()\n",
    "    tpr = tp / (tp+fn)\n",
    "    tnr = tn / (tn+fp)\n",
    "    accuracy = (tp+tn) / (tp+tn+fp+fn)\n",
    "    \n",
    "    #4. Updating\n",
    "    results_list.append([threshold,accuracy, tpr,tnr,stat_parity])\n",
    "    \n",
    "    \n",
    "df_results = pd.DataFrame(results_list, columns=['threshold','accuracy', 'tpr','tnr','stat_parity'])    \n",
    "df_results[:10]   "
   ]
  },
  {
   "cell_type": "code",
   "execution_count": 201,
   "metadata": {},
   "outputs": [
    {
     "data": {
      "text/html": [
       "<div>\n",
       "<style scoped>\n",
       "    .dataframe tbody tr th:only-of-type {\n",
       "        vertical-align: middle;\n",
       "    }\n",
       "\n",
       "    .dataframe tbody tr th {\n",
       "        vertical-align: top;\n",
       "    }\n",
       "\n",
       "    .dataframe thead th {\n",
       "        text-align: right;\n",
       "    }\n",
       "</style>\n",
       "<table border=\"1\" class=\"dataframe\">\n",
       "  <thead>\n",
       "    <tr style=\"text-align: right;\">\n",
       "      <th></th>\n",
       "      <th>threshold</th>\n",
       "      <th>accuracy</th>\n",
       "      <th>tpr</th>\n",
       "      <th>tnr</th>\n",
       "      <th>stat_parity</th>\n",
       "    </tr>\n",
       "  </thead>\n",
       "  <tbody>\n",
       "    <tr>\n",
       "      <th>43</th>\n",
       "      <td>0.43</td>\n",
       "      <td>0.835055</td>\n",
       "      <td>0.94375</td>\n",
       "      <td>0.667832</td>\n",
       "      <td>-0.216724</td>\n",
       "    </tr>\n",
       "  </tbody>\n",
       "</table>\n",
       "</div>"
      ],
      "text/plain": [
       "    threshold  accuracy      tpr       tnr  stat_parity\n",
       "43       0.43  0.835055  0.94375  0.667832    -0.216724"
      ]
     },
     "execution_count": 201,
     "metadata": {},
     "output_type": "execute_result"
    }
   ],
   "source": [
    "df_results[df_results['accuracy']==df_results['accuracy'].max()]"
   ]
  },
  {
   "cell_type": "markdown",
   "metadata": {},
   "source": [
    "We now have a reliable model with various different thresholds to pick from in determing how high of a probability the model needs in order to be as accurate, efficient, and fair as possible. Given we don't want the model to just predict everyone to graduate or everyone to dropout but actually be effective, I will be setting the tpr and tnr to be over 0.5 so as to assure the model is as reliable as possible. From there, I will be focusing on the accuracy of the model since that is our top priority. Luckily, as we see in the code above, the most accurate threshold is a valid threshold accordingly to our metrics. Our model is complete and we have a great, reliable threshold that gets us to an accuracy of .83988 and can be used to reasonably reliable determine if a student's going to graduate or dropout."
   ]
  },
  {
   "cell_type": "markdown",
   "metadata": {},
   "source": [
    "## 6. Predictive Model 2 - Weighted Logistic Regression Model"
   ]
  },
  {
   "cell_type": "markdown",
   "metadata": {},
   "source": [
    "Similar to how we started the predictive model 1, need to use StandardDataset objects, which require only numerical variables in them. Therefore, we will be using the df/standarddataset object that removed all qualitative/string-based variables for this model. First, we need to create the weights for each observation in the training data."
   ]
  },
  {
   "cell_type": "code",
   "execution_count": 202,
   "metadata": {},
   "outputs": [],
   "source": [
    "unpriv_group = [{'Gender':1}]\n",
    "priv_group = [{'Gender':0}]"
   ]
  },
  {
   "cell_type": "code",
   "execution_count": 203,
   "metadata": {},
   "outputs": [
    {
     "data": {
      "text/plain": [
       "array([1.27803464, 1.35184914, 1.27803464, 0.70329139, 0.88166978,\n",
       "       0.88166978, 1.27803464, 1.27803464, 0.70329139, 0.70329139])"
      ]
     },
     "execution_count": 203,
     "metadata": {},
     "output_type": "execute_result"
    }
   ],
   "source": [
    "from aif360.algorithms.preprocessing import Reweighing\n",
    "\n",
    "rw = Reweighing(unprivileged_groups = unpriv_group, privileged_groups = priv_group)\n",
    "rw.fit(sd_train)\n",
    "sd_train_reweight = rw.transform(sd_train)\n",
    "sd_train_reweight.instance_weights[:10]"
   ]
  },
  {
   "cell_type": "code",
   "execution_count": 204,
   "metadata": {},
   "outputs": [
    {
     "data": {
      "text/html": [
       "<div>\n",
       "<style scoped>\n",
       "    .dataframe tbody tr th:only-of-type {\n",
       "        vertical-align: middle;\n",
       "    }\n",
       "\n",
       "    .dataframe tbody tr th {\n",
       "        vertical-align: top;\n",
       "    }\n",
       "\n",
       "    .dataframe thead th {\n",
       "        text-align: right;\n",
       "    }\n",
       "</style>\n",
       "<table border=\"1\" class=\"dataframe\">\n",
       "  <thead>\n",
       "    <tr style=\"text-align: right;\">\n",
       "      <th></th>\n",
       "      <th>Marital status</th>\n",
       "      <th>Course</th>\n",
       "      <th>Daytime/evening attendance</th>\n",
       "      <th>Previous qualification</th>\n",
       "      <th>Mother's qualification</th>\n",
       "      <th>Father's qualification</th>\n",
       "      <th>Displaced</th>\n",
       "      <th>Educational special needs</th>\n",
       "      <th>Debtor</th>\n",
       "      <th>Tuition fees up to date</th>\n",
       "      <th>...</th>\n",
       "      <th>Scholarship holder</th>\n",
       "      <th>Age at enrollment</th>\n",
       "      <th>International</th>\n",
       "      <th>Curricular units 1st sem (grade)</th>\n",
       "      <th>Curricular units 2nd sem (grade)</th>\n",
       "      <th>Unemployment rate</th>\n",
       "      <th>Inflation rate</th>\n",
       "      <th>GDP</th>\n",
       "      <th>Target</th>\n",
       "      <th>Weight</th>\n",
       "    </tr>\n",
       "  </thead>\n",
       "  <tbody>\n",
       "    <tr>\n",
       "      <th>1420</th>\n",
       "      <td>Single</td>\n",
       "      <td>Other</td>\n",
       "      <td>1</td>\n",
       "      <td>HighSchoolDegree</td>\n",
       "      <td>Other</td>\n",
       "      <td>Basic</td>\n",
       "      <td>1</td>\n",
       "      <td>0</td>\n",
       "      <td>0</td>\n",
       "      <td>1</td>\n",
       "      <td>...</td>\n",
       "      <td>0</td>\n",
       "      <td>18</td>\n",
       "      <td>0</td>\n",
       "      <td>11.800000</td>\n",
       "      <td>11.400000</td>\n",
       "      <td>10.8</td>\n",
       "      <td>1.4</td>\n",
       "      <td>1.74</td>\n",
       "      <td>0</td>\n",
       "      <td>1.278035</td>\n",
       "    </tr>\n",
       "    <tr>\n",
       "      <th>3353</th>\n",
       "      <td>Single</td>\n",
       "      <td>MediaStudies</td>\n",
       "      <td>1</td>\n",
       "      <td>HighSchoolDegree</td>\n",
       "      <td>TechnicalDegree</td>\n",
       "      <td>HighSchoolDegree</td>\n",
       "      <td>1</td>\n",
       "      <td>0</td>\n",
       "      <td>0</td>\n",
       "      <td>1</td>\n",
       "      <td>...</td>\n",
       "      <td>1</td>\n",
       "      <td>18</td>\n",
       "      <td>0</td>\n",
       "      <td>12.714286</td>\n",
       "      <td>11.833333</td>\n",
       "      <td>13.9</td>\n",
       "      <td>-0.3</td>\n",
       "      <td>0.79</td>\n",
       "      <td>1</td>\n",
       "      <td>1.351849</td>\n",
       "    </tr>\n",
       "    <tr>\n",
       "      <th>1797</th>\n",
       "      <td>Single</td>\n",
       "      <td>Medical/Nurse</td>\n",
       "      <td>1</td>\n",
       "      <td>HighSchoolDegree</td>\n",
       "      <td>TechnicalDegree</td>\n",
       "      <td>HighSchoolDegree</td>\n",
       "      <td>1</td>\n",
       "      <td>0</td>\n",
       "      <td>0</td>\n",
       "      <td>1</td>\n",
       "      <td>...</td>\n",
       "      <td>1</td>\n",
       "      <td>18</td>\n",
       "      <td>0</td>\n",
       "      <td>15.000000</td>\n",
       "      <td>11.666667</td>\n",
       "      <td>9.4</td>\n",
       "      <td>-0.8</td>\n",
       "      <td>-3.12</td>\n",
       "      <td>0</td>\n",
       "      <td>1.278035</td>\n",
       "    </tr>\n",
       "    <tr>\n",
       "      <th>1379</th>\n",
       "      <td>Single</td>\n",
       "      <td>SocialScience</td>\n",
       "      <td>1</td>\n",
       "      <td>HighSchoolDegree</td>\n",
       "      <td>HighSchoolDegree</td>\n",
       "      <td>HighSchoolDegree</td>\n",
       "      <td>0</td>\n",
       "      <td>0</td>\n",
       "      <td>0</td>\n",
       "      <td>1</td>\n",
       "      <td>...</td>\n",
       "      <td>0</td>\n",
       "      <td>22</td>\n",
       "      <td>0</td>\n",
       "      <td>0.000000</td>\n",
       "      <td>0.000000</td>\n",
       "      <td>11.1</td>\n",
       "      <td>0.6</td>\n",
       "      <td>2.02</td>\n",
       "      <td>0</td>\n",
       "      <td>0.703291</td>\n",
       "    </tr>\n",
       "    <tr>\n",
       "      <th>1485</th>\n",
       "      <td>Single</td>\n",
       "      <td>SocialScience</td>\n",
       "      <td>1</td>\n",
       "      <td>HighSchoolDegree</td>\n",
       "      <td>Other</td>\n",
       "      <td>HighSchoolDegree</td>\n",
       "      <td>1</td>\n",
       "      <td>0</td>\n",
       "      <td>0</td>\n",
       "      <td>1</td>\n",
       "      <td>...</td>\n",
       "      <td>1</td>\n",
       "      <td>19</td>\n",
       "      <td>0</td>\n",
       "      <td>10.750000</td>\n",
       "      <td>11.500000</td>\n",
       "      <td>15.5</td>\n",
       "      <td>2.8</td>\n",
       "      <td>-4.06</td>\n",
       "      <td>1</td>\n",
       "      <td>0.881670</td>\n",
       "    </tr>\n",
       "  </tbody>\n",
       "</table>\n",
       "<p>5 rows × 21 columns</p>\n",
       "</div>"
      ],
      "text/plain": [
       "     Marital status         Course  Daytime/evening attendance  \\\n",
       "1420         Single          Other                           1   \n",
       "3353         Single   MediaStudies                           1   \n",
       "1797         Single  Medical/Nurse                           1   \n",
       "1379         Single  SocialScience                           1   \n",
       "1485         Single  SocialScience                           1   \n",
       "\n",
       "     Previous qualification Mother's qualification Father's qualification  \\\n",
       "1420       HighSchoolDegree                  Other                  Basic   \n",
       "3353       HighSchoolDegree        TechnicalDegree       HighSchoolDegree   \n",
       "1797       HighSchoolDegree        TechnicalDegree       HighSchoolDegree   \n",
       "1379       HighSchoolDegree       HighSchoolDegree       HighSchoolDegree   \n",
       "1485       HighSchoolDegree                  Other       HighSchoolDegree   \n",
       "\n",
       "      Displaced  Educational special needs  Debtor  Tuition fees up to date  \\\n",
       "1420          1                          0       0                        1   \n",
       "3353          1                          0       0                        1   \n",
       "1797          1                          0       0                        1   \n",
       "1379          0                          0       0                        1   \n",
       "1485          1                          0       0                        1   \n",
       "\n",
       "      ...  Scholarship holder  Age at enrollment  International  \\\n",
       "1420  ...                   0                 18              0   \n",
       "3353  ...                   1                 18              0   \n",
       "1797  ...                   1                 18              0   \n",
       "1379  ...                   0                 22              0   \n",
       "1485  ...                   1                 19              0   \n",
       "\n",
       "      Curricular units 1st sem (grade)  Curricular units 2nd sem (grade)  \\\n",
       "1420                         11.800000                         11.400000   \n",
       "3353                         12.714286                         11.833333   \n",
       "1797                         15.000000                         11.666667   \n",
       "1379                          0.000000                          0.000000   \n",
       "1485                         10.750000                         11.500000   \n",
       "\n",
       "      Unemployment rate  Inflation rate   GDP  Target    Weight  \n",
       "1420               10.8             1.4  1.74       0  1.278035  \n",
       "3353               13.9            -0.3  0.79       1  1.351849  \n",
       "1797                9.4            -0.8 -3.12       0  1.278035  \n",
       "1379               11.1             0.6  2.02       0  0.703291  \n",
       "1485               15.5             2.8 -4.06       1  0.881670  \n",
       "\n",
       "[5 rows x 21 columns]"
      ]
     },
     "execution_count": 204,
     "metadata": {},
     "output_type": "execute_result"
    }
   ],
   "source": [
    "df_train_weighted = train_df.copy()\n",
    "df_train_weighted['Weight'] = sd_train_reweight.instance_weights\n",
    "df_train_weighted.head()"
   ]
  },
  {
   "cell_type": "code",
   "execution_count": 205,
   "metadata": {},
   "outputs": [
    {
     "data": {
      "text/html": [
       "<div>\n",
       "<style scoped>\n",
       "    .dataframe tbody tr th:only-of-type {\n",
       "        vertical-align: middle;\n",
       "    }\n",
       "\n",
       "    .dataframe tbody tr th {\n",
       "        vertical-align: top;\n",
       "    }\n",
       "\n",
       "    .dataframe thead th {\n",
       "        text-align: right;\n",
       "    }\n",
       "</style>\n",
       "<table border=\"1\" class=\"dataframe\">\n",
       "  <thead>\n",
       "    <tr style=\"text-align: right;\">\n",
       "      <th></th>\n",
       "      <th>Gender</th>\n",
       "      <th>Target</th>\n",
       "      <th>Weight</th>\n",
       "    </tr>\n",
       "  </thead>\n",
       "  <tbody>\n",
       "    <tr>\n",
       "      <th>1420</th>\n",
       "      <td>0</td>\n",
       "      <td>0</td>\n",
       "      <td>1.278035</td>\n",
       "    </tr>\n",
       "    <tr>\n",
       "      <th>3353</th>\n",
       "      <td>1</td>\n",
       "      <td>1</td>\n",
       "      <td>1.351849</td>\n",
       "    </tr>\n",
       "    <tr>\n",
       "      <th>1379</th>\n",
       "      <td>1</td>\n",
       "      <td>0</td>\n",
       "      <td>0.703291</td>\n",
       "    </tr>\n",
       "    <tr>\n",
       "      <th>1485</th>\n",
       "      <td>0</td>\n",
       "      <td>1</td>\n",
       "      <td>0.881670</td>\n",
       "    </tr>\n",
       "  </tbody>\n",
       "</table>\n",
       "</div>"
      ],
      "text/plain": [
       "      Gender Target    Weight\n",
       "1420       0      0  1.278035\n",
       "3353       1      1  1.351849\n",
       "1379       1      0  0.703291\n",
       "1485       0      1  0.881670"
      ]
     },
     "execution_count": 205,
     "metadata": {},
     "output_type": "execute_result"
    }
   ],
   "source": [
    "df_train_weighted[['Gender','Target','Weight']].drop_duplicates()"
   ]
  },
  {
   "cell_type": "markdown",
   "metadata": {},
   "source": [
    "We can see above the created weights for each combination, where our model will best-fit males that graduate but will least-best-fit males who dropout. In other words, the model will weighed in that way that pays closer attention to men who graduate and women who dropout in the hopes that it will make for more fair and accurate predictions. Let's fit the Logisitic Regression model based on these weights."
   ]
  },
  {
   "cell_type": "code",
   "execution_count": 206,
   "metadata": {},
   "outputs": [
    {
     "name": "stderr",
     "output_type": "stream",
     "text": [
      "lbfgs failed to converge (status=1):\n",
      "STOP: TOTAL NO. of ITERATIONS REACHED LIMIT.\n",
      "\n",
      "Increase the number of iterations (max_iter) or scale the data as shown in:\n",
      "    https://scikit-learn.org/stable/modules/preprocessing.html\n",
      "Please also refer to the documentation for alternative solver options:\n",
      "    https://scikit-learn.org/stable/modules/linear_model.html#logistic-regression\n"
     ]
    },
    {
     "data": {
      "text/html": [
       "<style>#sk-container-id-3 {color: black;background-color: white;}#sk-container-id-3 pre{padding: 0;}#sk-container-id-3 div.sk-toggleable {background-color: white;}#sk-container-id-3 label.sk-toggleable__label {cursor: pointer;display: block;width: 100%;margin-bottom: 0;padding: 0.3em;box-sizing: border-box;text-align: center;}#sk-container-id-3 label.sk-toggleable__label-arrow:before {content: \"▸\";float: left;margin-right: 0.25em;color: #696969;}#sk-container-id-3 label.sk-toggleable__label-arrow:hover:before {color: black;}#sk-container-id-3 div.sk-estimator:hover label.sk-toggleable__label-arrow:before {color: black;}#sk-container-id-3 div.sk-toggleable__content {max-height: 0;max-width: 0;overflow: hidden;text-align: left;background-color: #f0f8ff;}#sk-container-id-3 div.sk-toggleable__content pre {margin: 0.2em;color: black;border-radius: 0.25em;background-color: #f0f8ff;}#sk-container-id-3 input.sk-toggleable__control:checked~div.sk-toggleable__content {max-height: 200px;max-width: 100%;overflow: auto;}#sk-container-id-3 input.sk-toggleable__control:checked~label.sk-toggleable__label-arrow:before {content: \"▾\";}#sk-container-id-3 div.sk-estimator input.sk-toggleable__control:checked~label.sk-toggleable__label {background-color: #d4ebff;}#sk-container-id-3 div.sk-label input.sk-toggleable__control:checked~label.sk-toggleable__label {background-color: #d4ebff;}#sk-container-id-3 input.sk-hidden--visually {border: 0;clip: rect(1px 1px 1px 1px);clip: rect(1px, 1px, 1px, 1px);height: 1px;margin: -1px;overflow: hidden;padding: 0;position: absolute;width: 1px;}#sk-container-id-3 div.sk-estimator {font-family: monospace;background-color: #f0f8ff;border: 1px dotted black;border-radius: 0.25em;box-sizing: border-box;margin-bottom: 0.5em;}#sk-container-id-3 div.sk-estimator:hover {background-color: #d4ebff;}#sk-container-id-3 div.sk-parallel-item::after {content: \"\";width: 100%;border-bottom: 1px solid gray;flex-grow: 1;}#sk-container-id-3 div.sk-label:hover label.sk-toggleable__label {background-color: #d4ebff;}#sk-container-id-3 div.sk-serial::before {content: \"\";position: absolute;border-left: 1px solid gray;box-sizing: border-box;top: 0;bottom: 0;left: 50%;z-index: 0;}#sk-container-id-3 div.sk-serial {display: flex;flex-direction: column;align-items: center;background-color: white;padding-right: 0.2em;padding-left: 0.2em;position: relative;}#sk-container-id-3 div.sk-item {position: relative;z-index: 1;}#sk-container-id-3 div.sk-parallel {display: flex;align-items: stretch;justify-content: center;background-color: white;position: relative;}#sk-container-id-3 div.sk-item::before, #sk-container-id-3 div.sk-parallel-item::before {content: \"\";position: absolute;border-left: 1px solid gray;box-sizing: border-box;top: 0;bottom: 0;left: 50%;z-index: -1;}#sk-container-id-3 div.sk-parallel-item {display: flex;flex-direction: column;z-index: 1;position: relative;background-color: white;}#sk-container-id-3 div.sk-parallel-item:first-child::after {align-self: flex-end;width: 50%;}#sk-container-id-3 div.sk-parallel-item:last-child::after {align-self: flex-start;width: 50%;}#sk-container-id-3 div.sk-parallel-item:only-child::after {width: 0;}#sk-container-id-3 div.sk-dashed-wrapped {border: 1px dashed gray;margin: 0 0.4em 0.5em 0.4em;box-sizing: border-box;padding-bottom: 0.4em;background-color: white;}#sk-container-id-3 div.sk-label label {font-family: monospace;font-weight: bold;display: inline-block;line-height: 1.2em;}#sk-container-id-3 div.sk-label-container {text-align: center;}#sk-container-id-3 div.sk-container {/* jupyter's `normalize.less` sets `[hidden] { display: none; }` but bootstrap.min.css set `[hidden] { display: none !important; }` so we also need the `!important` here to be able to override the default hidden behavior on the sphinx rendered scikit-learn.org. See: https://github.com/scikit-learn/scikit-learn/issues/21755 */display: inline-block !important;position: relative;}#sk-container-id-3 div.sk-text-repr-fallback {display: none;}</style><div id=\"sk-container-id-3\" class=\"sk-top-container\"><div class=\"sk-text-repr-fallback\"><pre>LogisticRegression()</pre><b>In a Jupyter environment, please rerun this cell to show the HTML representation or trust the notebook. <br />On GitHub, the HTML representation is unable to render, please try loading this page with nbviewer.org.</b></div><div class=\"sk-container\" hidden><div class=\"sk-item\"><div class=\"sk-estimator sk-toggleable\"><input class=\"sk-toggleable__control sk-hidden--visually\" id=\"sk-estimator-id-3\" type=\"checkbox\" checked><label for=\"sk-estimator-id-3\" class=\"sk-toggleable__label sk-toggleable__label-arrow\">LogisticRegression</label><div class=\"sk-toggleable__content\"><pre>LogisticRegression()</pre></div></div></div></div></div>"
      ],
      "text/plain": [
       "LogisticRegression()"
      ]
     },
     "execution_count": 206,
     "metadata": {},
     "output_type": "execute_result"
    }
   ],
   "source": [
    "X_train = train_quant_only_sd.drop('Target', axis=1)\n",
    "y_train = train_quant_only_sd['Target']\n",
    "\n",
    "X_test = test_quant_only_sd.drop('Target', axis=1)\n",
    "y_test = test_quant_only_sd['Target']\n",
    "\n",
    "y_train=y_train.astype('int')\n",
    "\n",
    "lr = LogisticRegression()\n",
    "lr.fit(X_train, y_train, sample_weight = sd_train_reweight.instance_weights)"
   ]
  },
  {
   "cell_type": "code",
   "execution_count": 207,
   "metadata": {},
   "outputs": [
    {
     "data": {
      "text/plain": [
       "array([1, 1, 0, ..., 0, 1, 0])"
      ]
     },
     "execution_count": 207,
     "metadata": {},
     "output_type": "execute_result"
    }
   ],
   "source": [
    "y_test_predicted=lr.predict(X_test)\n",
    "y_test_predicted"
   ]
  },
  {
   "cell_type": "markdown",
   "metadata": {},
   "source": [
    "This model automatically returns a 0 or 1 binary prediction classification, as seen in the array created above. To determine the effectiveness of our newly created model, we will be evaluating it based on the fairness-related metric statistical parity rate difference and the accuracy-related metrics tpr, tnr, and accuracy."
   ]
  },
  {
   "cell_type": "code",
   "execution_count": 210,
   "metadata": {},
   "outputs": [
    {
     "name": "stdout",
     "output_type": "stream",
     "text": [
      "0.9278409090909091\n",
      "0.6774475524475524\n",
      "0.8292011019283747\n"
     ]
    }
   ],
   "source": [
    "tn, fp, fn, tp = confusion_matrix(test_quant_only_sd['Target'].astype('int'), y_test_predicted).ravel()\n",
    "\n",
    "tpr = tp / (tp+fn)\n",
    "tnr = tn / (tn+fp)\n",
    "accuracy = (tp+tn) / (tp+tn+fp+fn)\n",
    "print(tpr)\n",
    "print(tnr)\n",
    "print(accuracy)"
   ]
  },
  {
   "cell_type": "code",
   "execution_count": 209,
   "metadata": {},
   "outputs": [
    {
     "data": {
      "text/plain": [
       "0.17488681942109474"
      ]
     },
     "execution_count": 209,
     "metadata": {},
     "output_type": "execute_result"
    }
   ],
   "source": [
    "test_df['y_pred2'] = y_test_predicted\n",
    "df_test_priv=test_df[test_df['Gender']==0]\n",
    "df_test_unpriv=test_df[test_df['Gender']==1]\n",
    "\n",
    "percent_pos_1_2 = df_test_priv[df_test_priv['y_pred2']==1].shape[0]/df_test_priv.shape[0]\n",
    "percent_pos_0_2 = df_test_unpriv[df_test_unpriv['y_pred2']==1].shape[0]/df_test_unpriv.shape[0]\n",
    "stat_parity2 = percent_pos_1_2-percent_pos_0_2\n",
    "stat_parity2"
   ]
  },
  {
   "cell_type": "markdown",
   "metadata": {},
   "source": [
    "We now have another model that has its benefits and drawbacks by it being a logistic model with custom made weights that should create more accurate and fair results. Our model is complete and we have consistent results that gets us to an accuracy of .84125 and stat parity of .19537 and can be used to reasonably reliable determine if a student's going to graduate or dropout."
   ]
  },
  {
   "cell_type": "markdown",
   "metadata": {},
   "source": [
    "## 7. Model Evaluation and Discussion"
   ]
  },
  {
   "cell_type": "markdown",
   "metadata": {},
   "source": [
    "#### Model Explanability\n",
    "\n",
    "Of these two main predictive models I fit, the Fairness-aware classifier with prejudice remover regularizer and the Weighted Logistic Regression Model, the Weighted Logistic Regression model has better explanability. While the fairness-aware classifier incorporates complicated regularization techniques that aren't very transparent or simple, the Weighted Logistic Regression model uses logistic regression, which is a simple and easily interpretable algorithm. It's also far easier to understand how the model uses its analysis to create weights and apply those weights to its predictions, while in the fairness-aware classifier it's not exactly clear how it is making the model more \"fair\". \n",
    "\n",
    "#### Fairness vs Accuracy Tradeoff\n",
    "\n",
    "The tradeoff between the two models is seen in analysis in the previous parts of this paper. The accuracy metrics are better in the Weighted Logistic Regression model even compared to the best possible threshold in the Fairness-aware classifier, with a somewhat better accuracy of .84125 versus .83988 and much higher tpr/tnr numbers. In this best case scenario for accuracy in the Fairness-aware classifier model however, the fairness metrics (statistical parity rate difference) are much worse versus the Weighted Logistic Regression model (.19537 vs .286). All of that considered, if we want the most accurate model, it is clearly the Weighted Logistic Regression model.\n",
    "\n",
    "However, the fairness tradeoff depending on the threshold we set for the Fairness-aware classifier could be massive. According to the threshold stats table in part 5, we can get a much lower statistical parity rate difference, and therefore likely more fairness, at a thresholds like 0.12, which would lower the accuracy to around 79 but decrease the statistical parity rate difference to 0.15. We can get the stat parity to even lower numbers depending on how low of accuracy we're willing to tolerate. All of this considered, if we want to maximize fairness, the Fairness-aware classifier with prejudice remover regularizer model is the best.\n",
    "\n",
    "In regards to different classifications from either of the given models, the predictive probability-related predictions were far more effective in both accuracy and fairness and therefore were used in both. As discussed above, the threshold selected in the Fairness-aware classifier with prejudice remover regularizer model can also be adjusted in different ways to have better fairness or better accuracy (but none that maximize both). \n",
    "\n",
    "#### Selecting and Explaining Classification Options to a Layperson\n",
    "\n",
    "One of the classification options based on my models was the fairness-aware classification (especially in the Fairness-aware classifier model). I decided to go with two possible thresholds as described above, .12 and .43, due to their balance of fairness and accuracy and their high accuracy respectively. While the actual process for getting the summary statistics used to make the decision on these thresholds is difficult to explain to a non-data scientist, the decisions themselves are simply based on whether you want the model to be more accurate or more fair. I would explain it to stakeholders that they need to decide on how important it is the predictions in the model are fair versus how important it is they're accurate or if it's somewhere inbetween.\n"
   ]
  },
  {
   "cell_type": "markdown",
   "metadata": {},
   "source": [
    "## 8. Conclusion and Insights Summary"
   ]
  },
  {
   "cell_type": "markdown",
   "metadata": {},
   "source": [
    "\n",
    "In summary, my report found that we can make an accurate model that is both reasonably accurate in determing what students and what factors lead to students dropping out versus graduating and develop two great models that could help small colleges like Georgia Tech identify actionable ways to increase their student graduation rate and help their students succeed. Based on their goals, the best model for whatever specific problem could change, but based on the above analysis I would reccomend these colleges use the Weighted Logistic Regression model as it's easily explainable how it predicts its results (which was a problem in the Georgia Tech case) while still being pretty fair and very accurate. By implementing a model like this, I believe Georgia Tech could continue to remain a diverse and fair college while also being able to create actionable ideas based off the models predictions so as to improve graduation rates.\n",
    "\n",
    "There are plenty of avenues for future work here, and I'm sure there's multiple big data companies on it right now. The apparent problem is the dataset is only from a Portugese university and I wonder if the same model/same conclusons could be drawn from an American university or other places around the world too, so increases the scope of the study could be really helpful. I'm also curious how race as a sensitive attribute could come into play, so I would look to run a new study that focuses on collecting that information effectively. Of course, there's plenty of other issues these smaller colleges faces especially in regards to fairness that we could build similar predictive models for, such as whether someone should be admitted to the college etc. \n",
    "\n",
    "This research was really exciting and led to some solid conclusions/insights and interesting paths forward for future work. With enough support, monetary and social, we could help these struggling smaller colleges and their students continue to improve and educate.\n"
   ]
  }
 ],
 "metadata": {
  "kernelspec": {
   "display_name": "Python 3 (ipykernel)",
   "language": "python",
   "name": "python3"
  },
  "language_info": {
   "codemirror_mode": {
    "name": "ipython",
    "version": 3
   },
   "file_extension": ".py",
   "mimetype": "text/x-python",
   "name": "python",
   "nbconvert_exporter": "python",
   "pygments_lexer": "ipython3",
   "version": "3.10.8"
  }
 },
 "nbformat": 4,
 "nbformat_minor": 4
}
